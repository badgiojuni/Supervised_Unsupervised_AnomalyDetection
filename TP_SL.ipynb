{
 "cells": [
  {
   "cell_type": "code",
   "execution_count": 68,
   "id": "32d5a077",
   "metadata": {},
   "outputs": [],
   "source": [
    "import pandas as pd\n",
    "import numpy as np\n",
    "np.set_printoptions(threshold=10000,suppress=True)\n",
    "import warnings\n",
    "import matplotlib.pyplot as plt\n",
    "warnings.filterwarnings('ignore')"
   ]
  },
  {
   "cell_type": "code",
   "execution_count": 71,
   "id": "983d60f8",
   "metadata": {},
   "outputs": [],
   "source": [
    "credit_scoring = pd.read_csv(\"credit_scoring.csv\", header=0, sep=\";\")"
   ]
  },
  {
   "cell_type": "code",
   "execution_count": 72,
   "id": "e0e26921",
   "metadata": {},
   "outputs": [
    {
     "data": {
      "text/plain": "   Seniority  Home  Time   Age  Marital  Records  Job  Expenses  Income  \\\n0        9.0   1.0  60.0  30.0      0.0      1.0  1.0      73.0   129.0   \n1       17.0   1.0  60.0  58.0      1.0      1.0  0.0      48.0   131.0   \n2       10.0   0.0  36.0  46.0      0.0      2.0  1.0      90.0   200.0   \n3        0.0   1.0  60.0  24.0      1.0      1.0  0.0      63.0   182.0   \n4        0.0   1.0  36.0  26.0      1.0      1.0  0.0      46.0   107.0   \n\n   Assets  Debt  Amount   Price  Status  \n0     0.0   0.0   800.0   846.0       1  \n1     0.0   0.0  1000.0  1658.0       1  \n2  3000.0   0.0  2000.0  2985.0       0  \n3  2500.0   0.0   900.0  1325.0       1  \n4     0.0   0.0   310.0   910.0       1  ",
      "text/html": "<div>\n<style scoped>\n    .dataframe tbody tr th:only-of-type {\n        vertical-align: middle;\n    }\n\n    .dataframe tbody tr th {\n        vertical-align: top;\n    }\n\n    .dataframe thead th {\n        text-align: right;\n    }\n</style>\n<table border=\"1\" class=\"dataframe\">\n  <thead>\n    <tr style=\"text-align: right;\">\n      <th></th>\n      <th>Seniority</th>\n      <th>Home</th>\n      <th>Time</th>\n      <th>Age</th>\n      <th>Marital</th>\n      <th>Records</th>\n      <th>Job</th>\n      <th>Expenses</th>\n      <th>Income</th>\n      <th>Assets</th>\n      <th>Debt</th>\n      <th>Amount</th>\n      <th>Price</th>\n      <th>Status</th>\n    </tr>\n  </thead>\n  <tbody>\n    <tr>\n      <th>0</th>\n      <td>9.0</td>\n      <td>1.0</td>\n      <td>60.0</td>\n      <td>30.0</td>\n      <td>0.0</td>\n      <td>1.0</td>\n      <td>1.0</td>\n      <td>73.0</td>\n      <td>129.0</td>\n      <td>0.0</td>\n      <td>0.0</td>\n      <td>800.0</td>\n      <td>846.0</td>\n      <td>1</td>\n    </tr>\n    <tr>\n      <th>1</th>\n      <td>17.0</td>\n      <td>1.0</td>\n      <td>60.0</td>\n      <td>58.0</td>\n      <td>1.0</td>\n      <td>1.0</td>\n      <td>0.0</td>\n      <td>48.0</td>\n      <td>131.0</td>\n      <td>0.0</td>\n      <td>0.0</td>\n      <td>1000.0</td>\n      <td>1658.0</td>\n      <td>1</td>\n    </tr>\n    <tr>\n      <th>2</th>\n      <td>10.0</td>\n      <td>0.0</td>\n      <td>36.0</td>\n      <td>46.0</td>\n      <td>0.0</td>\n      <td>2.0</td>\n      <td>1.0</td>\n      <td>90.0</td>\n      <td>200.0</td>\n      <td>3000.0</td>\n      <td>0.0</td>\n      <td>2000.0</td>\n      <td>2985.0</td>\n      <td>0</td>\n    </tr>\n    <tr>\n      <th>3</th>\n      <td>0.0</td>\n      <td>1.0</td>\n      <td>60.0</td>\n      <td>24.0</td>\n      <td>1.0</td>\n      <td>1.0</td>\n      <td>0.0</td>\n      <td>63.0</td>\n      <td>182.0</td>\n      <td>2500.0</td>\n      <td>0.0</td>\n      <td>900.0</td>\n      <td>1325.0</td>\n      <td>1</td>\n    </tr>\n    <tr>\n      <th>4</th>\n      <td>0.0</td>\n      <td>1.0</td>\n      <td>36.0</td>\n      <td>26.0</td>\n      <td>1.0</td>\n      <td>1.0</td>\n      <td>0.0</td>\n      <td>46.0</td>\n      <td>107.0</td>\n      <td>0.0</td>\n      <td>0.0</td>\n      <td>310.0</td>\n      <td>910.0</td>\n      <td>1</td>\n    </tr>\n  </tbody>\n</table>\n</div>"
     },
     "execution_count": 72,
     "metadata": {},
     "output_type": "execute_result"
    }
   ],
   "source": [
    "credit_scoring.head()"
   ]
  },
  {
   "cell_type": "code",
   "execution_count": 75,
   "outputs": [
    {
     "data": {
      "text/plain": "         Seniority         Home         Time          Age      Marital  \\\ncount  4375.000000  4375.000000  4375.000000  4375.000000  4375.000000   \nmean      7.985143     0.528229    46.518857    37.021714     0.271086   \nstd       8.173922     0.499260    14.619282    10.973187     0.444571   \nmin       0.000000     0.000000     6.000000    18.000000     0.000000   \n25%       2.000000     0.000000    36.000000    28.000000     0.000000   \n50%       5.000000     1.000000    48.000000    36.000000     0.000000   \n75%      12.000000     1.000000    60.000000    45.000000     1.000000   \nmax      48.000000     1.000000    72.000000    68.000000     1.000000   \n\n           Records          Job     Expenses       Income         Assets  \\\ncount  4375.000000  4375.000000  4375.000000  4375.000000    4375.000000   \nmean      1.172114     0.364114    55.595200   130.848914    5298.431314   \nstd       0.377523     0.481236    19.451569    86.199518   10582.377366   \nmin       1.000000     0.000000    35.000000     0.000000       0.000000   \n25%       1.000000     0.000000    35.000000    80.000000       0.000000   \n50%       1.000000     0.000000    51.000000   120.000000    3000.000000   \n75%       1.000000     1.000000    72.000000   165.000000    6000.000000   \nmax       2.000000     1.000000   173.000000   959.000000  250000.000000   \n\n               Debt       Amount         Price       Status  \ncount   4375.000000  4375.000000   4375.000000  4375.000000  \nmean     342.551543  1037.463771   1459.732343     0.722057  \nstd     1217.622800   469.753531    621.775995     0.448036  \nmin        0.000000   100.000000    105.000000     0.000000  \n25%        0.000000   700.000000   1116.500000     0.000000  \n50%        0.000000  1000.000000   1400.000000     1.000000  \n75%        0.000000  1300.000000   1688.000000     1.000000  \nmax    30000.000000  4500.000000  11140.000000     1.000000  ",
      "text/html": "<div>\n<style scoped>\n    .dataframe tbody tr th:only-of-type {\n        vertical-align: middle;\n    }\n\n    .dataframe tbody tr th {\n        vertical-align: top;\n    }\n\n    .dataframe thead th {\n        text-align: right;\n    }\n</style>\n<table border=\"1\" class=\"dataframe\">\n  <thead>\n    <tr style=\"text-align: right;\">\n      <th></th>\n      <th>Seniority</th>\n      <th>Home</th>\n      <th>Time</th>\n      <th>Age</th>\n      <th>Marital</th>\n      <th>Records</th>\n      <th>Job</th>\n      <th>Expenses</th>\n      <th>Income</th>\n      <th>Assets</th>\n      <th>Debt</th>\n      <th>Amount</th>\n      <th>Price</th>\n      <th>Status</th>\n    </tr>\n  </thead>\n  <tbody>\n    <tr>\n      <th>count</th>\n      <td>4375.000000</td>\n      <td>4375.000000</td>\n      <td>4375.000000</td>\n      <td>4375.000000</td>\n      <td>4375.000000</td>\n      <td>4375.000000</td>\n      <td>4375.000000</td>\n      <td>4375.000000</td>\n      <td>4375.000000</td>\n      <td>4375.000000</td>\n      <td>4375.000000</td>\n      <td>4375.000000</td>\n      <td>4375.000000</td>\n      <td>4375.000000</td>\n    </tr>\n    <tr>\n      <th>mean</th>\n      <td>7.985143</td>\n      <td>0.528229</td>\n      <td>46.518857</td>\n      <td>37.021714</td>\n      <td>0.271086</td>\n      <td>1.172114</td>\n      <td>0.364114</td>\n      <td>55.595200</td>\n      <td>130.848914</td>\n      <td>5298.431314</td>\n      <td>342.551543</td>\n      <td>1037.463771</td>\n      <td>1459.732343</td>\n      <td>0.722057</td>\n    </tr>\n    <tr>\n      <th>std</th>\n      <td>8.173922</td>\n      <td>0.499260</td>\n      <td>14.619282</td>\n      <td>10.973187</td>\n      <td>0.444571</td>\n      <td>0.377523</td>\n      <td>0.481236</td>\n      <td>19.451569</td>\n      <td>86.199518</td>\n      <td>10582.377366</td>\n      <td>1217.622800</td>\n      <td>469.753531</td>\n      <td>621.775995</td>\n      <td>0.448036</td>\n    </tr>\n    <tr>\n      <th>min</th>\n      <td>0.000000</td>\n      <td>0.000000</td>\n      <td>6.000000</td>\n      <td>18.000000</td>\n      <td>0.000000</td>\n      <td>1.000000</td>\n      <td>0.000000</td>\n      <td>35.000000</td>\n      <td>0.000000</td>\n      <td>0.000000</td>\n      <td>0.000000</td>\n      <td>100.000000</td>\n      <td>105.000000</td>\n      <td>0.000000</td>\n    </tr>\n    <tr>\n      <th>25%</th>\n      <td>2.000000</td>\n      <td>0.000000</td>\n      <td>36.000000</td>\n      <td>28.000000</td>\n      <td>0.000000</td>\n      <td>1.000000</td>\n      <td>0.000000</td>\n      <td>35.000000</td>\n      <td>80.000000</td>\n      <td>0.000000</td>\n      <td>0.000000</td>\n      <td>700.000000</td>\n      <td>1116.500000</td>\n      <td>0.000000</td>\n    </tr>\n    <tr>\n      <th>50%</th>\n      <td>5.000000</td>\n      <td>1.000000</td>\n      <td>48.000000</td>\n      <td>36.000000</td>\n      <td>0.000000</td>\n      <td>1.000000</td>\n      <td>0.000000</td>\n      <td>51.000000</td>\n      <td>120.000000</td>\n      <td>3000.000000</td>\n      <td>0.000000</td>\n      <td>1000.000000</td>\n      <td>1400.000000</td>\n      <td>1.000000</td>\n    </tr>\n    <tr>\n      <th>75%</th>\n      <td>12.000000</td>\n      <td>1.000000</td>\n      <td>60.000000</td>\n      <td>45.000000</td>\n      <td>1.000000</td>\n      <td>1.000000</td>\n      <td>1.000000</td>\n      <td>72.000000</td>\n      <td>165.000000</td>\n      <td>6000.000000</td>\n      <td>0.000000</td>\n      <td>1300.000000</td>\n      <td>1688.000000</td>\n      <td>1.000000</td>\n    </tr>\n    <tr>\n      <th>max</th>\n      <td>48.000000</td>\n      <td>1.000000</td>\n      <td>72.000000</td>\n      <td>68.000000</td>\n      <td>1.000000</td>\n      <td>2.000000</td>\n      <td>1.000000</td>\n      <td>173.000000</td>\n      <td>959.000000</td>\n      <td>250000.000000</td>\n      <td>30000.000000</td>\n      <td>4500.000000</td>\n      <td>11140.000000</td>\n      <td>1.000000</td>\n    </tr>\n  </tbody>\n</table>\n</div>"
     },
     "execution_count": 75,
     "metadata": {},
     "output_type": "execute_result"
    }
   ],
   "source": [
    "print(credit_scoring.describe())\n",
    "print(credit_scoring.shape)"
   ],
   "metadata": {
    "collapsed": false,
    "pycharm": {
     "name": "#%%\n"
    }
   }
  },
  {
   "cell_type": "code",
   "execution_count": 76,
   "id": "71a374a6",
   "metadata": {},
   "outputs": [
    {
     "name": "stdout",
     "output_type": "stream",
     "text": [
      "Pourcentage des bons payeurs:0.72\n"
     ]
    }
   ],
   "source": [
    "X = credit_scoring.iloc[:,:-1].values\n",
    "Y = credit_scoring.iloc[:,-1].values\n",
    "pourc_positif = np.sum(Y==1)/len(Y)\n",
    "pour_negatif = np.sum(Y==0)/len(Y)\n",
    "print('Pourcentage des bons payeurs:{:.2f}'.format(pourc_positif))"
   ]
  },
  {
   "cell_type": "code",
   "execution_count": 81,
   "id": "41bb738f",
   "metadata": {},
   "outputs": [],
   "source": [
    "from sklearn.model_selection import train_test_split\n",
    "X_train, X_test, Y_train, Y_test = train_test_split(X, Y, test_size=0.5, random_state=1)"
   ]
  },
  {
   "cell_type": "markdown",
   "id": "0e3136af",
   "metadata": {},
   "source": [
    "## Arbre de décision ##"
   ]
  },
  {
   "cell_type": "code",
   "execution_count": 86,
   "id": "4e998dd0",
   "metadata": {},
   "outputs": [
    {
     "name": "stdout",
     "output_type": "stream",
     "text": [
      "Arbre de decision: Résultats\n",
      "[[ 325  279]\n",
      " [ 318 1266]]\n",
      "Accuracy: 0.727\n",
      "Precision: 0.819\n",
      "The accuracy is the ratio (tp+tn)/total\n",
      "The precision is the ratio tp / (tp + fp). Ici permet de mesurer le nombre de bons clients sur nombre de bons clients + faux bons clients (20% de mauvais clients prédits bons, à éviter pour la banque \n",
      " Le recall est le ratio  tp / (tp + fn), qui ici détermine le nombre de bons clients oubliés (classés comme mauvais). Ok ici on privilégie la precision qu'on veut au max\n"
     ]
    }
   ],
   "source": [
    "from sklearn.tree import DecisionTreeClassifier\n",
    "from sklearn.metrics import confusion_matrix, accuracy_score, precision_score\n",
    "\n",
    "DT = DecisionTreeClassifier(criterion='gini', random_state=1)\n",
    "DT.fit(X_train, Y_train)\n",
    "YDT = DT.predict(X_test)\n",
    "print('Arbre de decision: Résultats')\n",
    "print(confusion_matrix(Y_test, YDT))\n",
    "print(\"Accuracy: {:.3f}\".format(accuracy_score(Y_test, YDT)))\n",
    "print(\"Precision: {:.3f}\".format(precision_score(Y_test, YDT)))\n",
    "print(\"The accuracy is the ratio (tp+tn)/total\")\n",
    "print(\"The precision is the ratio tp / (tp + fp). Ici permet de mesurer le nombre de bons clients sur nombre de bons clients + faux bons clients (20% de mauvais clients prédits bons, à éviter pour la banque) \\n Le recall est le ratio  tp / (tp + fn), qui ici détermine le nombre de bons clients oubliés (classés comme mauvais). Ok ici on privilégie la precision qu'on veut au max\")"
   ]
  },
  {
   "cell_type": "markdown",
   "id": "9189c382",
   "metadata": {},
   "source": [
    "### K-NN ###"
   ]
  },
  {
   "cell_type": "code",
   "execution_count": 83,
   "id": "568d1813",
   "metadata": {},
   "outputs": [
    {
     "name": "stdout",
     "output_type": "stream",
     "text": [
      "KNN: Résultats\n",
      "[[ 189  415]\n",
      " [ 187 1397]]\n",
      "Accuracy: 0.725\n",
      "Precision: 0.771\n",
      "Méthode non paramètrique comme le decision tree. \n"
     ]
    }
   ],
   "source": [
    "from sklearn.neighbors import KNeighborsClassifier\n",
    "neigh = KNeighborsClassifier(n_neighbors=5).fit(X_train, Y_train)\n",
    "YClust = neigh.predict(X_test)\n",
    "print('KNN: Résultats')\n",
    "print(confusion_matrix(Y_test, YClust))\n",
    "print(\"Accuracy: {:.3f}\".format(accuracy_score(Y_test, YClust)))\n",
    "print(\"Precision: {:.3f}\".format(precision_score(Y_test, YClust)))\n",
    "print('Méthode non paramètrique comme le decision tree. La Precision obtenue est plus faible.')"
   ]
  },
  {
   "cell_type": "markdown",
   "id": "655e804c",
   "metadata": {},
   "source": [
    "### MULTILAYER PERCEPTRON ###"
   ]
  },
  {
   "cell_type": "code",
   "execution_count": 84,
   "id": "ce306324",
   "metadata": {},
   "outputs": [
    {
     "name": "stdout",
     "output_type": "stream",
     "text": [
      "MLP: Résultats\n",
      "[[ 402  202]\n",
      " [ 525 1059]]\n",
      "Accuracy: 0.668\n",
      "Precision: 0.840\n"
     ]
    }
   ],
   "source": [
    "from sklearn.neural_network import MLPClassifier\n",
    "clf = MLPClassifier(random_state=1, hidden_layer_sizes = (40,20)).fit(X_train, Y_train)\n",
    "Yclf = clf.predict(X_test)\n",
    "print('MLP: Résultats')\n",
    "print(confusion_matrix(Y_test, Yclf))\n",
    "print(\"Accuracy: {:.3f}\".format(accuracy_score(Y_test, Yclf)))\n",
    "print(\"Precision: {:.3f}\".format(precision_score(Y_test, Yclf)))\n",
    "print(\"Un progrès sur la précision pour le perceptron à plusieurs couches avec la fonction d'activation Relu (positive part). Optimiseur utilisé est adam par défaut. On a une plus mauvaise accuracy mais on accepte moins de mauvais clients\")"
   ]
  },
  {
   "cell_type": "markdown",
   "id": "fceb5437",
   "metadata": {},
   "source": [
    "### NORMALISATION DES DONNES ###"
   ]
  },
  {
   "cell_type": "code",
   "execution_count": 88,
   "id": "34e44add",
   "metadata": {},
   "outputs": [
    {
     "name": "stdout",
     "output_type": "stream",
     "text": [
      "Any machine learning algorithm that computes the distance between the data points needs Feature Scaling (Standardization and Normalization). This includes all curve based algorithms.\n"
     ]
    }
   ],
   "source": [
    "from sklearn.preprocessing import StandardScaler, MinMaxScaler\n",
    "print(\"Any machine learning algorithm that computes the distance between the data points needs Feature Scaling (Standardization and Normalization). This includes all curve based algorithms.\")\n",
    "SS = StandardScaler()\n",
    "SS.fit(X_train)\n",
    "X_trainnorm = SS.transform(X_train)\n",
    "X_testnorm = SS.transform(X_test)\n",
    "MM = MinMaxScaler()\n",
    "MM.fit(X_train)\n",
    "X_train_MM = MM.transform(X_train)\n",
    "X_test_MM = MM.transform(X_test)"
   ]
  },
  {
   "cell_type": "code",
   "execution_count": 89,
   "id": "984e17d1",
   "metadata": {},
   "outputs": [],
   "source": [
    "def classifieurs(X_train, Y_train, X_test, Y_test):\n",
    "    DT = DecisionTreeClassifier(criterion='gini', random_state=1)\n",
    "    DT.fit(X_train, Y_train)\n",
    "    YDT = DT.predict(X_test)\n",
    "    print('### Arbre de decision: Résultats ###')\n",
    "    print(confusion_matrix(Y_test, YDT))\n",
    "    print(\"Accuracy: {:.3f}\".format(accuracy_score(Y_test, YDT)))\n",
    "    print(\"Precision: {:.3f} \\n\".format(precision_score(Y_test, YDT)))\n",
    "    neigh = KNeighborsClassifier(n_neighbors=5).fit(X_train, Y_train)\n",
    "    YClust = neigh.predict(X_test)\n",
    "    print('### KNN: Résultats ###')\n",
    "    print(confusion_matrix(Y_test, YClust))\n",
    "    print(\"Accuracy: {:.3f}\".format(accuracy_score(Y_test, YClust)))\n",
    "    print(\"Precision: {:.3f} \\n\".format(precision_score(Y_test, YClust)))\n",
    "    clf = MLPClassifier(random_state=1, hidden_layer_sizes = (40,20)).fit(X_train, Y_train)\n",
    "    Yclf = clf.predict(X_test)\n",
    "    print('### MLP: Résultats ###')\n",
    "    print(confusion_matrix(Y_test, Yclf))\n",
    "    print(\"Accuracy: {:.3f}\".format(accuracy_score(Y_test, Yclf)))\n",
    "    print(\"Precision: {:.3f} \\n\".format(precision_score(Y_test, Yclf)))"
   ]
  },
  {
   "cell_type": "code",
   "execution_count": 91,
   "id": "af748d05",
   "metadata": {},
   "outputs": [
    {
     "name": "stdout",
     "output_type": "stream",
     "text": [
      "Test avec les données normalisées par StandardScaler (on enleve la moyenne puis divise par l'écart type\n",
      "### Arbre de decision: Résultats ###\n",
      "[[ 322  282]\n",
      " [ 315 1269]]\n",
      "Accuracy: 0.727\n",
      "Precision: 0.818 \n",
      "\n",
      "### KNN: Résultats ###\n",
      "[[ 286  318]\n",
      " [ 223 1361]]\n",
      "Accuracy: 0.753\n",
      "Precision: 0.811 \n",
      "\n",
      "### MLP: Résultats ###\n",
      "[[ 342  262]\n",
      " [ 227 1357]]\n",
      "Accuracy: 0.777\n",
      "Precision: 0.838 \n",
      "\n",
      "Test avec les données normalisées par MinMAx (abs(Xmax-X / Xmax-Xmin)):\n",
      "### Arbre de decision: Résultats ###\n",
      "[[ 325  279]\n",
      " [ 315 1269]]\n",
      "Accuracy: 0.729\n",
      "Precision: 0.820 \n",
      "\n",
      "### KNN: Résultats ###\n",
      "[[ 283  321]\n",
      " [ 236 1348]]\n",
      "Accuracy: 0.745\n",
      "Precision: 0.808 \n",
      "\n",
      "### MLP: Résultats ###\n",
      "[[ 321  283]\n",
      " [ 179 1405]]\n",
      "Accuracy: 0.789\n",
      "Precision: 0.832 \n",
      "\n",
      "Interprétation: \n"
     ]
    }
   ],
   "source": [
    "print(\"Test avec les données normalisées par StandardScaler (on enleve la moyenne puis divise par l'écart type\")\n",
    "classifieurs(X_trainnorm, Y_train, X_testnorm, Y_test)\n",
    "print(\"Test avec les données normalisées par MinMAx (abs(Xmax-X / Xmax-Xmin)):\" )\n",
    "classifieurs(X_train_MM, Y_train, X_test_MM, Y_test)"
   ]
  },
  {
   "cell_type": "markdown",
   "source": [
    "## Interprétation ##\n",
    "### Comparaison avec les résultats des données non processées ###\n",
    "* Arbre de décision: pas d'amélioration (résultat attendu car ne se base pas sur une mesure de distance)\n",
    "* KNN: Gain de 3% de précision pour les deux méthodes de normalisation (attendu car se base que sur les distances)\n",
    "* MLP: pas de gain substantiel en precision, mais en accuracy (méthode d'optimisation par gradient de fonctions, permet d'avoir des pas en direction (opposée) du gradient à chaque itération plus équilibrés?)\n"
   ],
   "metadata": {
    "collapsed": false,
    "pycharm": {
     "name": "#%% md\n"
    }
   }
  },
  {
   "cell_type": "markdown",
   "source": [
    "## Combinaison linéaire des variables initiales ##"
   ],
   "metadata": {
    "collapsed": false,
    "pycharm": {
     "name": "#%% md\n"
    }
   }
  },
  {
   "cell_type": "code",
   "execution_count": 93,
   "id": "70fdee74",
   "metadata": {},
   "outputs": [],
   "source": [
    "from sklearn.decomposition import PCA\n",
    "pca = PCA(n_components=3)\n",
    "pca.fit(X_trainnorm)\n",
    "X_trainpca = np.concatenate((X_trainnorm, pca.transform(X_trainnorm)),axis=1)\n",
    "X_testpca = np.concatenate((X_testnorm, pca.transform(X_testnorm)), axis=1)"
   ]
  },
  {
   "cell_type": "code",
   "execution_count": 95,
   "id": "d72c488f",
   "metadata": {},
   "outputs": [
    {
     "name": "stdout",
     "output_type": "stream",
     "text": [
      "### Arbre de decision: Résultats ###\n",
      "[[ 351  253]\n",
      " [ 324 1260]]\n",
      "Accuracy: 0.736\n",
      "Precision: 0.833 \n",
      "\n",
      "### KNN: Résultats ###\n",
      "[[ 283  321]\n",
      " [ 212 1372]]\n",
      "Accuracy: 0.756\n",
      "Precision: 0.810 \n",
      "\n",
      "### MLP: Résultats ###\n",
      "[[ 318  286]\n",
      " [ 217 1367]]\n",
      "Accuracy: 0.770\n",
      "Precision: 0.827 \n",
      "\n",
      "L'arbre de décision devient l'algorithme discriminant avec la plus haute précision \n",
      " Les vecteurs propres de l'ACP ont permis de donner de nouvelles règles de décisions + tranchantes à l'arbre\n"
     ]
    }
   ],
   "source": [
    "classifieurs(X_trainpca, Y_train, X_testpca, Y_test)\n",
    "print(\"L'arbre de décision devient l'algorithme discriminant avec la plus haute précision \\n Les vecteurs propres de l'ACP ont permis de donner de nouvelles règles de décisions + tranchantes à l'arbre (n'affecte pas les deux autres algorithmes positivement en précision\")"
   ]
  },
  {
   "cell_type": "markdown",
   "id": "1fcc9ba9",
   "metadata": {},
   "source": [
    "## QUESTION 5: Selection de variables ##"
   ]
  },
  {
   "cell_type": "code",
   "execution_count": 96,
   "id": "92223294",
   "metadata": {},
   "outputs": [
    {
     "name": "stdout",
     "output_type": "stream",
     "text": [
      "(13,)\n",
      "Index(['Income', 'Seniority', 'Price', 'Amount', 'Age', 'Assets', 'Expenses',\n",
      "       'Records', 'Time', 'Job', 'Debt', 'Home', 'Marital'],\n",
      "      dtype='object')\n"
     ]
    },
    {
     "data": {
      "text/plain": "<Figure size 432x288 with 1 Axes>",
      "image/png": "[encoded data removed]"
     },
     "metadata": {
      "needs_background": "light"
     },
     "output_type": "display_data"
    }
   ],
   "source": [
    "from sklearn.ensemble import RandomForestClassifier\n",
    "clf = RandomForestClassifier(n_estimators=100)\n",
    "clf.fit(X_trainnorm, Y_train)\n",
    "importances=clf.feature_importances_\n",
    "std = np.std([tree.feature_importances_ for tree in clf.estimators_],axis=0)\n",
    "print(std.shape)\n",
    "sorted_idx = np.argsort(importances)[::-1]\n",
    "features =credit_scoring.columns[:-1]\n",
    "print(features[sorted_idx])\n",
    "padding = np.arange(X_trainnorm.size/len(X_trainnorm)) + 0.5\n",
    "plt.barh(padding, importances[sorted_idx],xerr=std[sorted_idx], align='center')\n",
    "plt.yticks(padding, features[sorted_idx])\n",
    "plt.xlabel(\"Relative Importance\")\n",
    "plt.title(\"Variable Importance\")\n",
    "plt.show()"
   ]
  },
  {
   "cell_type": "code",
   "execution_count": 99,
   "outputs": [
    {
     "name": "stdout",
     "output_type": "stream",
     "text": [
      "Selection de variables pour le K-NN\n"
     ]
    },
    {
     "data": {
      "text/plain": "<Figure size 432x288 with 1 Axes>",
      "image/png": "[encoded data removed]"
     },
     "metadata": {
      "needs_background": "light"
     },
     "output_type": "display_data"
    },
    {
     "name": "stdout",
     "output_type": "stream",
     "text": [
      "11 variables semblent être le meilleur choix pour notre KNN, 7 si on veut economiser du temps d'optimisation par rapport au faible gain d'accuracy entre 7 et 11 variables sélectionnées\n"
     ]
    }
   ],
   "source": [
    "KNN=KNeighborsClassifier(n_neighbors=5)\n",
    "scores=np.zeros(X_trainnorm.shape[1]+1)\n",
    "for f in np.arange(0, X_trainnorm.shape[1]+1):\n",
    "    X1_f = X_trainnorm[:,sorted_idx[:f+1]]\n",
    "    X2_f = X_testnorm[:,sorted_idx[:f+1]]\n",
    "    KNN.fit(X1_f,Y_train)\n",
    "    YKNN=KNN.predict(X2_f)\n",
    "    scores[f]=np.round(accuracy_score(Y_test,YKNN),3)\n",
    "print(\"Selection de variables pour le K-NN\")\n",
    "plt.plot(scores)\n",
    "plt.xlabel(\"Nombre de Variables\")\n",
    "plt.ylabel(\"Accuracy\")\n",
    "plt.title(\"Evolution de l'accuracy en fonction des variables\")\n",
    "plt.show()\n",
    "print(\"12 variables semblent être le meilleur choix pour notre KNN, 8 si on veut economiser du temps d'optimisation par rapport au faible gain d'accuracy entre 8 et 12 variables sélectionnées (on commecne la graduation des features à 0\")"
   ],
   "metadata": {
    "collapsed": false,
    "pycharm": {
     "name": "#%%\n"
    }
   }
  },
  {
   "cell_type": "code",
   "execution_count": 101,
   "id": "a7aaa3e7",
   "metadata": {},
   "outputs": [
    {
     "name": "stdout",
     "output_type": "stream",
     "text": [
      "Selection de variables pour le MLP\n"
     ]
    },
    {
     "data": {
      "text/plain": "<Figure size 432x288 with 1 Axes>",
      "image/png": "[encoded data removed]"
     },
     "metadata": {
      "needs_background": "light"
     },
     "output_type": "display_data"
    },
    {
     "name": "stdout",
     "output_type": "stream",
     "text": [
      "7 variables semblent être le meilleur choix pour notre MLP\n"
     ]
    }
   ],
   "source": [
    "MLP = MLPClassifier(random_state=1, hidden_layer_sizes = (40,20))\n",
    "scores=np.zeros(X_trainnorm.shape[1]+1)\n",
    "for f in np.arange(0, X_trainnorm.shape[1]+1):\n",
    "    X1_f = X_trainnorm[:,sorted_idx[:f+1]]\n",
    "    X2_f = X_testnorm[:,sorted_idx[:f+1]]\n",
    "    MLP.fit(X1_f,Y_train)\n",
    "    YMLP = MLP.predict(X2_f)\n",
    "    scores[f]=np.round(accuracy_score(Y_test,YMLP),3)\n",
    "print(\"Selection de variables pour le MLP\")\n",
    "plt.plot(scores)\n",
    "plt.xlabel(\"Nombre de Variables\")\n",
    "plt.ylabel(\"Accuracy\")\n",
    "plt.title(\"Evolution de l'accuracy en fonction des variables\")\n",
    "plt.show()\n",
    "print(\"8 variables semblent être le meilleur choix pour notre MLP, attention on commence à 0 notre graduation des features\")"
   ]
  },
  {
   "cell_type": "code",
   "execution_count": 106,
   "id": "991b7473",
   "metadata": {},
   "outputs": [
    {
     "name": "stdout",
     "output_type": "stream",
     "text": [
      "[ 8  0 12 11  3  9  7  5]\n",
      "Index(['Income', 'Seniority', 'Price', 'Amount', 'Age', 'Assets', 'Expenses',\n",
      "       'Records'],\n",
      "      dtype='object')\n"
     ]
    }
   ],
   "source": [
    "indices_var = sorted_idx[:(np.argmax(scores)+1)]\n",
    "print(indices_var)\n",
    "print(features[indices_var])"
   ]
  },
  {
   "cell_type": "markdown",
   "id": "b45a6123",
   "metadata": {},
   "source": [
    "### Paramétrage des classifieurs ###"
   ]
  },
  {
   "cell_type": "code",
   "execution_count": 107,
   "id": "f084ab22",
   "metadata": {},
   "outputs": [
    {
     "name": "stdout",
     "output_type": "stream",
     "text": [
      "{'activation': 'logistic', 'hidden_layer_sizes': (40, 30)}\n",
      "0.7809748230069958\n"
     ]
    }
   ],
   "source": [
    "from sklearn.model_selection import GridSearchCV\n",
    "print('Utilisation de GridSearch sur le MLP avec 8 features sélectionnées par la question précédente')\n",
    "parameters_MLP = {'hidden_layer_sizes':[(40,20), (30,20), (40,30)], 'activation':['logistic', 'tanh', 'relu']}\n",
    "modelMLP = MLPClassifier(random_state=1)\n",
    "GSMLP = GridSearchCV(modelMLP, parameters_MLP, scoring='accuracy', cv=10)\n",
    "grille = GSMLP.fit(X_trainnorm[:,indices_var], Y_train)\n",
    "print('Les meilleurs paramètres trouvés par le grid search sont: {}.\\n La sélection est basée sur l accuracy: le meilleur score obtenu est {:.3f}  sur la base de training. qui ne permet pas d améliorer celle obtenue précedemment avec la totalité des features mais moins de paramètres pour le réseau neuronal car espace de features à plus faible dimension'.format(grille.best_params_, grille.best_score_))"
   ]
  },
  {
   "cell_type": "code",
   "execution_count": 110,
   "id": "c637512c",
   "metadata": {},
   "outputs": [
    {
     "name": "stdout",
     "output_type": "stream",
     "text": [
      "Accuracy score d'un MLP optimisé: 0.797. \n",
      " Le Gridsearch permet d améliorer légèrement l accuracy obtenue précedemment en utilisant un espace de features à plus faible dimension, mais plus de neurones au final (ici (40,30)) au lieu de (40,20)\n"
     ]
    }
   ],
   "source": [
    "YMLP_grid = grille.predict(X_testnorm[:,indices_var])\n",
    "print(\"Accuracy score d'un MLP optimisé: {0:.3f}. \\n Le Gridsearch permet d améliorer légèrement l accuracy obtenue précedemment par le MLP en utilisant un espace de features à plus faible dimension, mais plus de neurones au final (ici (40,30)) au lieu de (40,20)\".format(accuracy_score(Y_test, YMLP_grid)))"
   ]
  },
  {
   "cell_type": "markdown",
   "id": "2534de89",
   "metadata": {},
   "source": [
    "### QUESTION 7: CREATION DE PIPELINE ###"
   ]
  },
  {
   "cell_type": "code",
   "execution_count": 111,
   "id": "443676ae",
   "metadata": {},
   "outputs": [],
   "source": [
    "from sklearn.pipeline import Pipeline\n",
    "import pickle"
   ]
  },
  {
   "cell_type": "code",
   "execution_count": 115,
   "id": "9d99afab",
   "metadata": {},
   "outputs": [],
   "source": [
    "P = Pipeline([('SS', StandardScaler()),\n",
    "              ('Mon_ACP', PCA(n_components=3)),\n",
    "             ('MLP', MLPClassifier(random_state=1, activation='logistic', hidden_layer_sizes=(40,30)))])\n",
    "P.fit(X_train,Y_train)\n",
    "pickle.dump(P, open(\"/Users/theophilebaggio/Desktop/studies/Lyon_M2_SITN/Machine_learning/TP_SL/pipeline_bank.pkl\", \"wb\"))"
   ]
  },
  {
   "cell_type": "code",
   "execution_count": 116,
   "id": "115e1821",
   "metadata": {},
   "outputs": [],
   "source": [
    "P = pickle.load(open(\"/Users/theophilebaggio/Desktop/studies/Lyon_M2_SITN/Machine_learning/TP_SL/pipeline_bank.pkl\", \"rb\"))"
   ]
  },
  {
   "cell_type": "code",
   "execution_count": 117,
   "id": "4f67d480",
   "metadata": {},
   "outputs": [
    {
     "data": {
      "text/plain": "array([[0.42513176, 0.57486824],\n       [0.45302441, 0.54697559],\n       [0.27883085, 0.72116915],\n       [0.11751453, 0.88248547],\n       [0.40041915, 0.59958085],\n       [0.27615809, 0.72384191],\n       [0.39969118, 0.60030882],\n       [0.22638328, 0.77361672],\n       [0.29059809, 0.70940191],\n       [0.48226671, 0.51773329],\n       [0.49825523, 0.50174477],\n       [0.16413477, 0.83586523],\n       [0.23585519, 0.76414481],\n       [0.1727642 , 0.8272358 ],\n       [0.32610549, 0.67389451],\n       [0.1514369 , 0.8485631 ],\n       [0.37369904, 0.62630096],\n       [0.45893976, 0.54106024],\n       [0.37893427, 0.62106573],\n       [0.16761906, 0.83238094],\n       [0.10479678, 0.89520322],\n       [0.19651952, 0.80348048],\n       [0.23696912, 0.76303088],\n       [0.367616  , 0.632384  ],\n       [0.37752811, 0.62247189],\n       [0.44693295, 0.55306705],\n       [0.17538509, 0.82461491],\n       [0.18256228, 0.81743772],\n       [0.22351516, 0.77648484],\n       [0.11609876, 0.88390124],\n       [0.2288591 , 0.7711409 ],\n       [0.37562094, 0.62437906],\n       [0.46844526, 0.53155474],\n       [0.5038517 , 0.4961483 ],\n       [0.34429667, 0.65570333],\n       [0.21933324, 0.78066676],\n       [0.50904709, 0.49095291],\n       [0.17651307, 0.82348693],\n       [0.37989938, 0.62010062],\n       [0.24636322, 0.75363678],\n       [0.28519197, 0.71480803],\n       [0.318394  , 0.681606  ],\n       [0.12618724, 0.87381276],\n       [0.12926081, 0.87073919],\n       [0.10173348, 0.89826652],\n       [0.44244802, 0.55755198],\n       [0.44622613, 0.55377387],\n       [0.16454819, 0.83545181],\n       [0.36426828, 0.63573172],\n       [0.48269396, 0.51730604],\n       [0.29136016, 0.70863984],\n       [0.42296758, 0.57703242],\n       [0.43844918, 0.56155082],\n       [0.2610183 , 0.7389817 ],\n       [0.14719474, 0.85280526],\n       [0.42559292, 0.57440708],\n       [0.18742677, 0.81257323],\n       [0.47489115, 0.52510885],\n       [0.19749087, 0.80250913],\n       [0.17486677, 0.82513323],\n       [0.20593257, 0.79406743],\n       [0.12503678, 0.87496322],\n       [0.20961974, 0.79038026],\n       [0.18173081, 0.81826919],\n       [0.15228119, 0.84771881],\n       [0.27490978, 0.72509022],\n       [0.19656802, 0.80343198],\n       [0.44164293, 0.55835707],\n       [0.34197052, 0.65802948],\n       [0.18057969, 0.81942031],\n       [0.52818614, 0.47181386],\n       [0.10000945, 0.89999055],\n       [0.43176853, 0.56823147],\n       [0.2122581 , 0.7877419 ],\n       [0.13275543, 0.86724457],\n       [0.14397903, 0.85602097],\n       [0.37159769, 0.62840231],\n       [0.14076645, 0.85923355],\n       [0.18249337, 0.81750663],\n       [0.43448078, 0.56551922],\n       [0.50698919, 0.49301081],\n       [0.32311134, 0.67688866],\n       [0.1656339 , 0.8343661 ],\n       [0.23375217, 0.76624783],\n       [0.19844501, 0.80155499],\n       [0.19212337, 0.80787663],\n       [0.25350627, 0.74649373],\n       [0.23462355, 0.76537645],\n       [0.2173252 , 0.7826748 ],\n       [0.19113078, 0.80886922],\n       [0.23180416, 0.76819584],\n       [0.14210991, 0.85789009],\n       [0.11772487, 0.88227513],\n       [0.28106519, 0.71893481],\n       [0.33526045, 0.66473955],\n       [0.34793659, 0.65206341],\n       [0.17730803, 0.82269197],\n       [0.18727672, 0.81272328],\n       [0.26815872, 0.73184128],\n       [0.17776938, 0.82223062],\n       [0.22279806, 0.77720194],\n       [0.34875318, 0.65124682],\n       [0.2109723 , 0.7890277 ],\n       [0.2941621 , 0.7058379 ],\n       [0.36556902, 0.63443098],\n       [0.34620805, 0.65379195],\n       [0.32471614, 0.67528386],\n       [0.09066872, 0.90933128],\n       [0.17067765, 0.82932235],\n       [0.39801872, 0.60198128],\n       [0.13307604, 0.86692396],\n       [0.18085847, 0.81914153],\n       [0.34099907, 0.65900093],\n       [0.13307573, 0.86692427],\n       [0.21113323, 0.78886677],\n       [0.1984257 , 0.8015743 ],\n       [0.21938944, 0.78061056],\n       [0.49558137, 0.50441863],\n       [0.38006731, 0.61993269],\n       [0.19940257, 0.80059743],\n       [0.20409457, 0.79590543],\n       [0.30998184, 0.69001816],\n       [0.31852139, 0.68147861],\n       [0.39818066, 0.60181934],\n       [0.22936618, 0.77063382],\n       [0.34637838, 0.65362162],\n       [0.15477973, 0.84522027],\n       [0.21568171, 0.78431829],\n       [0.2659597 , 0.7340403 ],\n       [0.46381111, 0.53618889],\n       [0.15633717, 0.84366283],\n       [0.50000733, 0.49999267],\n       [0.43423   , 0.56577   ],\n       [0.27869326, 0.72130674],\n       [0.1718674 , 0.8281326 ],\n       [0.21915772, 0.78084228],\n       [0.22658707, 0.77341293],\n       [0.30961523, 0.69038477],\n       [0.25575228, 0.74424772],\n       [0.37211312, 0.62788688],\n       [0.21737258, 0.78262742],\n       [0.38814597, 0.61185403],\n       [0.2441515 , 0.7558485 ],\n       [0.24565342, 0.75434658],\n       [0.19972432, 0.80027568],\n       [0.24923011, 0.75076989],\n       [0.35461325, 0.64538675],\n       [0.15796089, 0.84203911],\n       [0.2794519 , 0.7205481 ],\n       [0.40029015, 0.59970985],\n       [0.27767874, 0.72232126],\n       [0.29005481, 0.70994519],\n       [0.11268324, 0.88731676],\n       [0.41350539, 0.58649461],\n       [0.1712666 , 0.8287334 ],\n       [0.14639946, 0.85360054],\n       [0.40014082, 0.59985918],\n       [0.47530685, 0.52469315],\n       [0.15115644, 0.84884356],\n       [0.36489244, 0.63510756],\n       [0.13567948, 0.86432052],\n       [0.2458524 , 0.7541476 ],\n       [0.24566578, 0.75433422],\n       [0.29586169, 0.70413831],\n       [0.19691253, 0.80308747],\n       [0.32157577, 0.67842423],\n       [0.28258839, 0.71741161],\n       [0.4334113 , 0.5665887 ],\n       [0.19805618, 0.80194382],\n       [0.30330028, 0.69669972],\n       [0.21596705, 0.78403295],\n       [0.25963386, 0.74036614],\n       [0.34327172, 0.65672828],\n       [0.35590832, 0.64409168],\n       [0.2073249 , 0.7926751 ],\n       [0.12231572, 0.87768428],\n       [0.28897076, 0.71102924],\n       [0.50466716, 0.49533284],\n       [0.25226842, 0.74773158],\n       [0.32018272, 0.67981728],\n       [0.1592968 , 0.8407032 ],\n       [0.14256062, 0.85743938],\n       [0.46945093, 0.53054907],\n       [0.1435153 , 0.8564847 ],\n       [0.44834242, 0.55165758],\n       [0.18487877, 0.81512123],\n       [0.15159752, 0.84840248],\n       [0.48292608, 0.51707392],\n       [0.32170796, 0.67829204],\n       [0.13509177, 0.86490823],\n       [0.16114142, 0.83885858],\n       [0.45128696, 0.54871304],\n       [0.2461021 , 0.7538979 ],\n       [0.13293547, 0.86706453],\n       [0.10605364, 0.89394636],\n       [0.25473366, 0.74526634],\n       [0.19450781, 0.80549219],\n       [0.21816785, 0.78183215],\n       [0.39774678, 0.60225322],\n       [0.52269284, 0.47730716],\n       [0.49282339, 0.50717661],\n       [0.29243078, 0.70756922],\n       [0.15579149, 0.84420851],\n       [0.15552193, 0.84447807],\n       [0.39264054, 0.60735946],\n       [0.41721072, 0.58278928],\n       [0.32356818, 0.67643182],\n       [0.13432332, 0.86567668],\n       [0.24697579, 0.75302421],\n       [0.30300574, 0.69699426],\n       [0.2365376 , 0.7634624 ],\n       [0.50669159, 0.49330841],\n       [0.52679761, 0.47320239],\n       [0.23255793, 0.76744207],\n       [0.13193229, 0.86806771],\n       [0.44361518, 0.55638482],\n       [0.15917738, 0.84082262],\n       [0.26295801, 0.73704199],\n       [0.35294088, 0.64705912],\n       [0.18913116, 0.81086884],\n       [0.38224025, 0.61775975],\n       [0.34805877, 0.65194123],\n       [0.61236719, 0.38763281],\n       [0.38660974, 0.61339026],\n       [0.22882756, 0.77117244],\n       [0.4083064 , 0.5916936 ],\n       [0.39369696, 0.60630304],\n       [0.43399868, 0.56600132],\n       [0.12316326, 0.87683674],\n       [0.24669513, 0.75330487],\n       [0.19657082, 0.80342918],\n       [0.38092925, 0.61907075],\n       [0.20483636, 0.79516364],\n       [0.4433059 , 0.5566941 ],\n       [0.43667215, 0.56332785],\n       [0.20973372, 0.79026628],\n       [0.37316807, 0.62683193],\n       [0.32543189, 0.67456811],\n       [0.36264488, 0.63735512],\n       [0.17143596, 0.82856404],\n       [0.46668592, 0.53331408],\n       [0.30162899, 0.69837101],\n       [0.41764668, 0.58235332],\n       [0.17457696, 0.82542304],\n       [0.16237987, 0.83762013],\n       [0.4032508 , 0.5967492 ],\n       [0.10515027, 0.89484973],\n       [0.18462443, 0.81537557],\n       [0.15529452, 0.84470548],\n       [0.35442195, 0.64557805],\n       [0.14530986, 0.85469014],\n       [0.13945342, 0.86054658],\n       [0.13391921, 0.86608079],\n       [0.35193414, 0.64806586],\n       [0.43730808, 0.56269192],\n       [0.22451579, 0.77548421],\n       [0.26643396, 0.73356604],\n       [0.1837626 , 0.8162374 ],\n       [0.18814434, 0.81185566],\n       [0.33225299, 0.66774701],\n       [0.33913174, 0.66086826],\n       [0.33900581, 0.66099419],\n       [0.43111098, 0.56888902],\n       [0.28642782, 0.71357218],\n       [0.1804395 , 0.8195605 ],\n       [0.45229259, 0.54770741],\n       [0.11987823, 0.88012177],\n       [0.19679733, 0.80320267],\n       [0.12173847, 0.87826153],\n       [0.23240948, 0.76759052],\n       [0.38346825, 0.61653175],\n       [0.34966336, 0.65033664],\n       [0.36153438, 0.63846562],\n       [0.34975456, 0.65024544],\n       [0.25496392, 0.74503608],\n       [0.3851023 , 0.6148977 ],\n       [0.32086852, 0.67913148],\n       [0.23401727, 0.76598273],\n       [0.55289618, 0.44710382],\n       [0.33142334, 0.66857666],\n       [0.23696756, 0.76303244],\n       [0.47008874, 0.52991126],\n       [0.22077879, 0.77922121],\n       [0.25586519, 0.74413481],\n       [0.22748419, 0.77251581],\n       [0.16418617, 0.83581383],\n       [0.29803091, 0.70196909],\n       [0.21104031, 0.78895969],\n       [0.20581814, 0.79418186],\n       [0.19186489, 0.80813511],\n       [0.23973136, 0.76026864],\n       [0.30381726, 0.69618274],\n       [0.1105948 , 0.8894052 ],\n       [0.18708848, 0.81291152],\n       [0.6006058 , 0.3993942 ],\n       [0.37306376, 0.62693624],\n       [0.21084192, 0.78915808],\n       [0.23427347, 0.76572653],\n       [0.20579664, 0.79420336],\n       [0.48665737, 0.51334263],\n       [0.21649442, 0.78350558],\n       [0.53351149, 0.46648851],\n       [0.15483242, 0.84516758],\n       [0.44417527, 0.55582473],\n       [0.2524186 , 0.7475814 ],\n       [0.49640828, 0.50359172],\n       [0.21735188, 0.78264812],\n       [0.23462784, 0.76537216],\n       [0.41180971, 0.58819029],\n       [0.25340573, 0.74659427],\n       [0.22850658, 0.77149342],\n       [0.18669336, 0.81330664],\n       [0.5122341 , 0.4877659 ],\n       [0.20789488, 0.79210512],\n       [0.32738445, 0.67261555],\n       [0.13351121, 0.86648879],\n       [0.25893497, 0.74106503],\n       [0.19241214, 0.80758786],\n       [0.3900138 , 0.6099862 ],\n       [0.30654216, 0.69345784],\n       [0.41455448, 0.58544552],\n       [0.16496298, 0.83503702],\n       [0.15000991, 0.84999009],\n       [0.37800484, 0.62199516],\n       [0.13354041, 0.86645959],\n       [0.16752416, 0.83247584],\n       [0.26064174, 0.73935826],\n       [0.37217913, 0.62782087],\n       [0.28769875, 0.71230125],\n       [0.31690964, 0.68309036],\n       [0.2465372 , 0.7534628 ],\n       [0.47577371, 0.52422629],\n       [0.46819021, 0.53180979],\n       [0.22574405, 0.77425595],\n       [0.16531783, 0.83468217],\n       [0.238315  , 0.761685  ],\n       [0.26948766, 0.73051234],\n       [0.51989943, 0.48010057],\n       [0.3909831 , 0.6090169 ],\n       [0.19862948, 0.80137052],\n       [0.16572301, 0.83427699],\n       [0.15308607, 0.84691393],\n       [0.1678429 , 0.8321571 ],\n       [0.48176381, 0.51823619],\n       [0.12664144, 0.87335856],\n       [0.32136715, 0.67863285],\n       [0.29662836, 0.70337164],\n       [0.22605888, 0.77394112],\n       [0.20840223, 0.79159777],\n       [0.51847819, 0.48152181],\n       [0.19413728, 0.80586272],\n       [0.35626947, 0.64373053],\n       [0.4074928 , 0.5925072 ],\n       [0.47014403, 0.52985597],\n       [0.20644119, 0.79355881],\n       [0.25905972, 0.74094028],\n       [0.09994084, 0.90005916],\n       [0.20381806, 0.79618194],\n       [0.27939416, 0.72060584],\n       [0.25321488, 0.74678512],\n       [0.28965487, 0.71034513],\n       [0.28006672, 0.71993328],\n       [0.36670127, 0.63329873],\n       [0.35192921, 0.64807079],\n       [0.39058597, 0.60941403],\n       [0.12306858, 0.87693142],\n       [0.29659616, 0.70340384],\n       [0.2651981 , 0.7348019 ],\n       [0.20800011, 0.79199989],\n       [0.33393595, 0.66606405],\n       [0.25442498, 0.74557502],\n       [0.16575461, 0.83424539],\n       [0.39158084, 0.60841916],\n       [0.19112824, 0.80887176],\n       [0.30112874, 0.69887126],\n       [0.21728013, 0.78271987],\n       [0.2767246 , 0.7232754 ],\n       [0.14501002, 0.85498998],\n       [0.29218269, 0.70781731],\n       [0.15867091, 0.84132909],\n       [0.50313585, 0.49686415],\n       [0.28959127, 0.71040873],\n       [0.34636399, 0.65363601],\n       [0.10050982, 0.89949018],\n       [0.39683459, 0.60316541],\n       [0.37058682, 0.62941318],\n       [0.28823796, 0.71176204],\n       [0.14503185, 0.85496815],\n       [0.25634208, 0.74365792],\n       [0.15404107, 0.84595893],\n       [0.21138634, 0.78861366],\n       [0.0968029 , 0.9031971 ],\n       [0.20875333, 0.79124667],\n       [0.25501662, 0.74498338],\n       [0.15237535, 0.84762465],\n       [0.30258624, 0.69741376],\n       [0.22846288, 0.77153712],\n       [0.49699134, 0.50300866],\n       [0.25836406, 0.74163594],\n       [0.22204484, 0.77795516],\n       [0.32187869, 0.67812131],\n       [0.24918495, 0.75081505],\n       [0.43638761, 0.56361239],\n       [0.36243336, 0.63756664],\n       [0.44405259, 0.55594741],\n       [0.10565418, 0.89434582],\n       [0.35920637, 0.64079363],\n       [0.25934672, 0.74065328],\n       [0.21483535, 0.78516465],\n       [0.13974192, 0.86025808],\n       [0.19668578, 0.80331422],\n       [0.24922134, 0.75077866],\n       [0.35100647, 0.64899353],\n       [0.22804569, 0.77195431],\n       [0.27032465, 0.72967535],\n       [0.17458685, 0.82541315],\n       [0.13158305, 0.86841695],\n       [0.56611171, 0.43388829],\n       [0.15277352, 0.84722648],\n       [0.27004398, 0.72995602],\n       [0.28575246, 0.71424754],\n       [0.29653151, 0.70346849],\n       [0.22664098, 0.77335902],\n       [0.30825347, 0.69174653],\n       [0.44770265, 0.55229735],\n       [0.1248145 , 0.8751855 ],\n       [0.29097574, 0.70902426],\n       [0.32480854, 0.67519146],\n       [0.41602166, 0.58397834],\n       [0.18426078, 0.81573922],\n       [0.20005053, 0.79994947],\n       [0.35111519, 0.64888481],\n       [0.39962141, 0.60037859],\n       [0.39593774, 0.60406226],\n       [0.2983701 , 0.7016299 ],\n       [0.47124913, 0.52875087],\n       [0.26176126, 0.73823874],\n       [0.4138764 , 0.5861236 ],\n       [0.44050413, 0.55949587],\n       [0.3018852 , 0.6981148 ],\n       [0.29125801, 0.70874199],\n       [0.29337892, 0.70662108],\n       [0.10797395, 0.89202605],\n       [0.34250555, 0.65749445],\n       [0.28713046, 0.71286954],\n       [0.18616597, 0.81383403],\n       [0.206649  , 0.793351  ],\n       [0.19377386, 0.80622614],\n       [0.31763547, 0.68236453],\n       [0.21013244, 0.78986756],\n       [0.27757591, 0.72242409],\n       [0.25943656, 0.74056344],\n       [0.29334682, 0.70665318],\n       [0.14756369, 0.85243631],\n       [0.18010527, 0.81989473],\n       [0.46980045, 0.53019955],\n       [0.3511506 , 0.6488494 ],\n       [0.36698833, 0.63301167],\n       [0.21068627, 0.78931373],\n       [0.11408101, 0.88591899],\n       [0.34024366, 0.65975634],\n       [0.31113084, 0.68886916],\n       [0.22949552, 0.77050448],\n       [0.18347571, 0.81652429],\n       [0.14575276, 0.85424724],\n       [0.32997787, 0.67002213],\n       [0.24892217, 0.75107783],\n       [0.16279921, 0.83720079],\n       [0.11278814, 0.88721186],\n       [0.16670637, 0.83329363],\n       [0.36693342, 0.63306658],\n       [0.22241589, 0.77758411],\n       [0.15164667, 0.84835333],\n       [0.15196435, 0.84803565],\n       [0.32433584, 0.67566416],\n       [0.37582183, 0.62417817],\n       [0.18475844, 0.81524156],\n       [0.19845709, 0.80154291],\n       [0.37649461, 0.62350539],\n       [0.34154524, 0.65845476],\n       [0.24685219, 0.75314781],\n       [0.28501208, 0.71498792],\n       [0.50426193, 0.49573807],\n       [0.49457547, 0.50542453],\n       [0.21707075, 0.78292925],\n       [0.19953504, 0.80046496],\n       [0.39503752, 0.60496248],\n       [0.49262541, 0.50737459],\n       [0.17223101, 0.82776899],\n       [0.42355174, 0.57644826],\n       [0.41623305, 0.58376695],\n       [0.1055923 , 0.8944077 ],\n       [0.16568729, 0.83431271],\n       [0.16890139, 0.83109861],\n       [0.10734512, 0.89265488],\n       [0.26053066, 0.73946934],\n       [0.36752674, 0.63247326],\n       [0.23076767, 0.76923233],\n       [0.13800584, 0.86199416],\n       [0.16343259, 0.83656741],\n       [0.37255792, 0.62744208],\n       [0.3841142 , 0.6158858 ],\n       [0.25631369, 0.74368631],\n       [0.23893964, 0.76106036],\n       [0.10862265, 0.89137735],\n       [0.40652133, 0.59347867],\n       [0.12808979, 0.87191021],\n       [0.32299699, 0.67700301],\n       [0.38165095, 0.61834905],\n       [0.37863029, 0.62136971],\n       [0.22461756, 0.77538244],\n       [0.31026095, 0.68973905],\n       [0.43327474, 0.56672526],\n       [0.228847  , 0.771153  ],\n       [0.30897992, 0.69102008],\n       [0.28395648, 0.71604352],\n       [0.2341864 , 0.7658136 ],\n       [0.22301372, 0.77698628],\n       [0.33102356, 0.66897644],\n       [0.35463685, 0.64536315],\n       [0.25449951, 0.74550049],\n       [0.46487899, 0.53512101],\n       [0.28353367, 0.71646633],\n       [0.3898302 , 0.6101698 ],\n       [0.27571357, 0.72428643],\n       [0.21000468, 0.78999532],\n       [0.43824301, 0.56175699],\n       [0.31240138, 0.68759862],\n       [0.16442802, 0.83557198],\n       [0.36755316, 0.63244684],\n       [0.2302554 , 0.7697446 ],\n       [0.29025161, 0.70974839],\n       [0.43187882, 0.56812118],\n       [0.34187464, 0.65812536],\n       [0.15782648, 0.84217352],\n       [0.12026976, 0.87973024],\n       [0.26308303, 0.73691697],\n       [0.25911573, 0.74088427],\n       [0.32899948, 0.67100052],\n       [0.55146808, 0.44853192],\n       [0.30688469, 0.69311531],\n       [0.21283023, 0.78716977],\n       [0.51917884, 0.48082116],\n       [0.27428913, 0.72571087],\n       [0.37941487, 0.62058513],\n       [0.38910164, 0.61089836],\n       [0.10453167, 0.89546833],\n       [0.3716672 , 0.6283328 ],\n       [0.18727423, 0.81272577],\n       [0.27691257, 0.72308743],\n       [0.19814527, 0.80185473],\n       [0.44331735, 0.55668265],\n       [0.45599181, 0.54400819],\n       [0.35866288, 0.64133712],\n       [0.21830849, 0.78169151],\n       [0.27228054, 0.72771946],\n       [0.31408202, 0.68591798],\n       [0.31705231, 0.68294769],\n       [0.30523532, 0.69476468],\n       [0.2687804 , 0.7312196 ],\n       [0.46157584, 0.53842416],\n       [0.29353402, 0.70646598],\n       [0.42463077, 0.57536923],\n       [0.46710094, 0.53289906],\n       [0.31212261, 0.68787739],\n       [0.24145915, 0.75854085],\n       [0.19208331, 0.80791669],\n       [0.22959099, 0.77040901],\n       [0.23453214, 0.76546786],\n       [0.14047356, 0.85952644],\n       [0.1981656 , 0.8018344 ],\n       [0.63376466, 0.36623534],\n       [0.21767348, 0.78232652],\n       [0.171609  , 0.828391  ],\n       [0.29427594, 0.70572406],\n       [0.17868949, 0.82131051],\n       [0.34546833, 0.65453167],\n       [0.49783408, 0.50216592],\n       [0.30790265, 0.69209735],\n       [0.24172235, 0.75827765],\n       [0.3819728 , 0.6180272 ],\n       [0.20432976, 0.79567024],\n       [0.4333433 , 0.5666567 ],\n       [0.20967951, 0.79032049],\n       [0.21881197, 0.78118803],\n       [0.10066708, 0.89933292],\n       [0.283752  , 0.716248  ],\n       [0.42519846, 0.57480154],\n       [0.14339926, 0.85660074],\n       [0.44122625, 0.55877375],\n       [0.33798721, 0.66201279],\n       [0.32679686, 0.67320314],\n       [0.29075768, 0.70924232],\n       [0.13318295, 0.86681705],\n       [0.32197527, 0.67802473],\n       [0.50515605, 0.49484395],\n       [0.24360653, 0.75639347],\n       [0.27428597, 0.72571403],\n       [0.2680643 , 0.7319357 ],\n       [0.20982966, 0.79017034],\n       [0.31627612, 0.68372388],\n       [0.18347893, 0.81652107],\n       [0.37806915, 0.62193085],\n       [0.46655372, 0.53344628],\n       [0.30695741, 0.69304259],\n       [0.393254  , 0.606746  ],\n       [0.17543865, 0.82456135],\n       [0.49864099, 0.50135901],\n       [0.26592918, 0.73407082],\n       [0.21250618, 0.78749382],\n       [0.15992014, 0.84007986],\n       [0.16767299, 0.83232701],\n       [0.31339352, 0.68660648],\n       [0.3217607 , 0.6782393 ],\n       [0.12843352, 0.87156648],\n       [0.16766074, 0.83233926],\n       [0.19456734, 0.80543266],\n       [0.16414292, 0.83585708],\n       [0.16269354, 0.83730646],\n       [0.13726468, 0.86273532],\n       [0.14587416, 0.85412584],\n       [0.14627456, 0.85372544],\n       [0.14968125, 0.85031875],\n       [0.38824716, 0.61175284],\n       [0.1604327 , 0.8395673 ],\n       [0.23822265, 0.76177735],\n       [0.17920875, 0.82079125],\n       [0.16300131, 0.83699869],\n       [0.61453148, 0.38546852],\n       [0.40889828, 0.59110172],\n       [0.41807622, 0.58192378],\n       [0.33442304, 0.66557696],\n       [0.45959284, 0.54040716],\n       [0.12095325, 0.87904675],\n       [0.48980442, 0.51019558],\n       [0.15611327, 0.84388673],\n       [0.23956383, 0.76043617],\n       [0.19294189, 0.80705811],\n       [0.13893476, 0.86106524],\n       [0.46882454, 0.53117546],\n       [0.55177815, 0.44822185],\n       [0.19216913, 0.80783087],\n       [0.17332199, 0.82667801],\n       [0.16547645, 0.83452355],\n       [0.11677154, 0.88322846],\n       [0.18405078, 0.81594922],\n       [0.10637595, 0.89362405],\n       [0.48141244, 0.51858756],\n       [0.29788024, 0.70211976],\n       [0.49007029, 0.50992971],\n       [0.23471757, 0.76528243],\n       [0.34978666, 0.65021334],\n       [0.21607768, 0.78392232],\n       [0.27326693, 0.72673307],\n       [0.22986254, 0.77013746],\n       [0.29416022, 0.70583978],\n       [0.15515902, 0.84484098],\n       [0.29805747, 0.70194253],\n       [0.22253392, 0.77746608],\n       [0.20535433, 0.79464567],\n       [0.38107545, 0.61892455],\n       [0.20462172, 0.79537828],\n       [0.17262629, 0.82737371],\n       [0.38511418, 0.61488582],\n       [0.22555999, 0.77444001],\n       [0.56113055, 0.43886945],\n       [0.17025886, 0.82974114],\n       [0.31190917, 0.68809083],\n       [0.16657209, 0.83342791],\n       [0.36260271, 0.63739729],\n       [0.50558747, 0.49441253],\n       [0.23559333, 0.76440667],\n       [0.42627224, 0.57372776],\n       [0.09286104, 0.90713896],\n       [0.22481241, 0.77518759],\n       [0.29308889, 0.70691111],\n       [0.35420482, 0.64579518],\n       [0.24578936, 0.75421064],\n       [0.34682077, 0.65317923],\n       [0.37175738, 0.62824262],\n       [0.26232094, 0.73767906],\n       [0.16547041, 0.83452959],\n       [0.22261254, 0.77738746],\n       [0.19754627, 0.80245373],\n       [0.17956088, 0.82043912],\n       [0.25241165, 0.74758835],\n       [0.18737986, 0.81262014],\n       [0.19996722, 0.80003278],\n       [0.51612106, 0.48387894],\n       [0.56019198, 0.43980802],\n       [0.5562419 , 0.4437581 ],\n       [0.10754097, 0.89245903],\n       [0.30647573, 0.69352427],\n       [0.40576318, 0.59423682],\n       [0.30668301, 0.69331699],\n       [0.45996257, 0.54003743],\n       [0.25194217, 0.74805783],\n       [0.32234282, 0.67765718],\n       [0.15028718, 0.84971282],\n       [0.54367143, 0.45632857],\n       [0.53930582, 0.46069418],\n       [0.27420585, 0.72579415],\n       [0.33425838, 0.66574162],\n       [0.11661233, 0.88338767],\n       [0.15557601, 0.84442399],\n       [0.35394749, 0.64605251],\n       [0.15580881, 0.84419119],\n       [0.24901262, 0.75098738],\n       [0.25044182, 0.74955818],\n       [0.24192194, 0.75807806],\n       [0.48630747, 0.51369253],\n       [0.52943222, 0.47056778],\n       [0.20041875, 0.79958125],\n       [0.3999619 , 0.6000381 ],\n       [0.61504662, 0.38495338],\n       [0.11933491, 0.88066509],\n       [0.20625744, 0.79374256],\n       [0.17242314, 0.82757686],\n       [0.51422638, 0.48577362],\n       [0.13689047, 0.86310953],\n       [0.40532905, 0.59467095],\n       [0.37688232, 0.62311768],\n       [0.34012252, 0.65987748],\n       [0.55735664, 0.44264336],\n       [0.51868546, 0.48131454],\n       [0.27011647, 0.72988353],\n       [0.46764776, 0.53235224],\n       [0.21985312, 0.78014688],\n       [0.54335099, 0.45664901],\n       [0.14600104, 0.85399896],\n       [0.21226813, 0.78773187],\n       [0.43919122, 0.56080878],\n       [0.29304669, 0.70695331],\n       [0.1013177 , 0.8986823 ],\n       [0.15105063, 0.84894937],\n       [0.14922518, 0.85077482],\n       [0.18067095, 0.81932905],\n       [0.14118162, 0.85881838],\n       [0.22101974, 0.77898026],\n       [0.1987813 , 0.8012187 ],\n       [0.16143254, 0.83856746],\n       [0.41522665, 0.58477335],\n       [0.37951634, 0.62048366],\n       [0.25444123, 0.74555877],\n       [0.22915335, 0.77084665],\n       [0.39357689, 0.60642311],\n       [0.42518305, 0.57481695],\n       [0.19669142, 0.80330858],\n       [0.27477334, 0.72522666],\n       [0.16385564, 0.83614436],\n       [0.15822596, 0.84177404],\n       [0.25648506, 0.74351494],\n       [0.22414525, 0.77585475],\n       [0.34884519, 0.65115481],\n       [0.30925328, 0.69074672],\n       [0.14325583, 0.85674417],\n       [0.39926211, 0.60073789],\n       [0.42158149, 0.57841851],\n       [0.44584192, 0.55415808],\n       [0.15862826, 0.84137174],\n       [0.47313269, 0.52686731],\n       [0.19904861, 0.80095139],\n       [0.21386215, 0.78613785],\n       [0.19008119, 0.80991881],\n       [0.12190402, 0.87809598],\n       [0.42659499, 0.57340501],\n       [0.43396917, 0.56603083],\n       [0.21929131, 0.78070869],\n       [0.15654094, 0.84345906],\n       [0.37625315, 0.62374685],\n       [0.10432654, 0.89567346],\n       [0.15145371, 0.84854629],\n       [0.25563906, 0.74436094],\n       [0.11734197, 0.88265803],\n       [0.25642736, 0.74357264],\n       [0.20794494, 0.79205506],\n       [0.37896932, 0.62103068],\n       [0.24034767, 0.75965233],\n       [0.46790522, 0.53209478],\n       [0.32180876, 0.67819124],\n       [0.32884433, 0.67115567],\n       [0.48554625, 0.51445375],\n       [0.16595076, 0.83404924],\n       [0.30614732, 0.69385268],\n       [0.41652072, 0.58347928],\n       [0.18382209, 0.81617791],\n       [0.51212842, 0.48787158],\n       [0.23862722, 0.76137278],\n       [0.40489006, 0.59510994],\n       [0.19300439, 0.80699561],\n       [0.48111971, 0.51888029],\n       [0.22955448, 0.77044552],\n       [0.23299802, 0.76700198],\n       [0.13100828, 0.86899172],\n       [0.37946159, 0.62053841],\n       [0.50691145, 0.49308855],\n       [0.22158891, 0.77841109],\n       [0.41236225, 0.58763775],\n       [0.33953686, 0.66046314],\n       [0.12577077, 0.87422923],\n       [0.39279586, 0.60720414],\n       [0.36905265, 0.63094735],\n       [0.15189008, 0.84810992],\n       [0.19855954, 0.80144046],\n       [0.2843875 , 0.7156125 ],\n       [0.18415085, 0.81584915],\n       [0.4083406 , 0.5916594 ],\n       [0.38069063, 0.61930937],\n       [0.34586345, 0.65413655],\n       [0.18375647, 0.81624353],\n       [0.28603424, 0.71396576],\n       [0.13774303, 0.86225697],\n       [0.18262348, 0.81737652],\n       [0.30784607, 0.69215393],\n       [0.31720871, 0.68279129],\n       [0.45014827, 0.54985173],\n       [0.3278356 , 0.6721644 ],\n       [0.17939686, 0.82060314],\n       [0.21466272, 0.78533728],\n       [0.37636637, 0.62363363],\n       [0.15921409, 0.84078591],\n       [0.22640979, 0.77359021],\n       [0.20099448, 0.79900552],\n       [0.38010607, 0.61989393],\n       [0.09069693, 0.90930307],\n       [0.09707093, 0.90292907],\n       [0.40523324, 0.59476676],\n       [0.15693324, 0.84306676],\n       [0.320338  , 0.679662  ],\n       [0.41296023, 0.58703977],\n       [0.22249885, 0.77750115],\n       [0.44693575, 0.55306425],\n       [0.27513193, 0.72486807],\n       [0.43040826, 0.56959174],\n       [0.22111424, 0.77888576],\n       [0.49191846, 0.50808154],\n       [0.23797751, 0.76202249],\n       [0.11318138, 0.88681862],\n       [0.20418639, 0.79581361],\n       [0.25509405, 0.74490595],\n       [0.47378427, 0.52621573],\n       [0.20904122, 0.79095878],\n       [0.24238478, 0.75761522],\n       [0.42179566, 0.57820434],\n       [0.32327255, 0.67672745],\n       [0.40500468, 0.59499532],\n       [0.38836182, 0.61163818],\n       [0.29885531, 0.70114469],\n       [0.37017933, 0.62982067],\n       [0.5115479 , 0.4884521 ],\n       [0.2278127 , 0.7721873 ],\n       [0.29766831, 0.70233169],\n       [0.49762273, 0.50237727],\n       [0.49484049, 0.50515951],\n       [0.15560123, 0.84439877],\n       [0.29368724, 0.70631276],\n       [0.24073568, 0.75926432],\n       [0.42272124, 0.57727876],\n       [0.11161255, 0.88838745],\n       [0.27697927, 0.72302073],\n       [0.24329084, 0.75670916],\n       [0.49960072, 0.50039928],\n       [0.31559437, 0.68440563],\n       [0.13204896, 0.86795104],\n       [0.36133782, 0.63866218],\n       [0.21398238, 0.78601762],\n       [0.11826959, 0.88173041],\n       [0.45811612, 0.54188388],\n       [0.34882179, 0.65117821],\n       [0.34417062, 0.65582938],\n       [0.43202759, 0.56797241],\n       [0.25648602, 0.74351398],\n       [0.14024701, 0.85975299],\n       [0.27124624, 0.72875376],\n       [0.13063427, 0.86936573],\n       [0.15163978, 0.84836022],\n       [0.1825372 , 0.8174628 ],\n       [0.2915455 , 0.7084545 ],\n       [0.4832724 , 0.5167276 ],\n       [0.47929875, 0.52070125],\n       [0.22659885, 0.77340115],\n       [0.38540795, 0.61459205],\n       [0.40039245, 0.59960755],\n       [0.19096473, 0.80903527],\n       [0.26907145, 0.73092855],\n       [0.15554508, 0.84445492],\n       [0.24073651, 0.75926349],\n       [0.43695465, 0.56304535],\n       [0.29758881, 0.70241119],\n       [0.43900695, 0.56099305],\n       [0.17242173, 0.82757827],\n       [0.52881388, 0.47118612],\n       [0.19738804, 0.80261196],\n       [0.23230189, 0.76769811],\n       [0.29544587, 0.70455413],\n       [0.1548506 , 0.8451494 ],\n       [0.35535183, 0.64464817],\n       [0.47206619, 0.52793381],\n       [0.3842059 , 0.6157941 ],\n       [0.27306108, 0.72693892],\n       [0.23374566, 0.76625434],\n       [0.27073015, 0.72926985],\n       [0.25515468, 0.74484532],\n       [0.11188928, 0.88811072],\n       [0.42550374, 0.57449626],\n       [0.10982739, 0.89017261],\n       [0.43517878, 0.56482122],\n       [0.45100408, 0.54899592],\n       [0.38500009, 0.61499991],\n       [0.24866312, 0.75133688],\n       [0.23548344, 0.76451656],\n       [0.18287809, 0.81712191],\n       [0.21580622, 0.78419378],\n       [0.1163943 , 0.8836057 ],\n       [0.52012378, 0.47987622],\n       [0.54421801, 0.45578199],\n       [0.39538536, 0.60461464],\n       [0.20802451, 0.79197549],\n       [0.1488877 , 0.8511123 ],\n       [0.51626519, 0.48373481],\n       [0.43560611, 0.56439389],\n       [0.40188148, 0.59811852],\n       [0.48166563, 0.51833437],\n       [0.30873064, 0.69126936],\n       [0.25922334, 0.74077666],\n       [0.25436731, 0.74563269],\n       [0.52395241, 0.47604759],\n       [0.20912779, 0.79087221],\n       [0.25569597, 0.74430403],\n       [0.21716204, 0.78283796],\n       [0.32733942, 0.67266058],\n       [0.21582102, 0.78417898],\n       [0.2356587 , 0.7643413 ],\n       [0.2198725 , 0.7801275 ],\n       [0.19707506, 0.80292494],\n       [0.40751901, 0.59248099],\n       [0.22452362, 0.77547638],\n       [0.09826034, 0.90173966],\n       [0.18045197, 0.81954803],\n       [0.35507438, 0.64492562],\n       [0.2474034 , 0.7525966 ],\n       [0.15756074, 0.84243926],\n       [0.30583269, 0.69416731],\n       [0.14127782, 0.85872218],\n       [0.25234946, 0.74765054],\n       [0.53232974, 0.46767026],\n       [0.13476004, 0.86523996],\n       [0.1828515 , 0.8171485 ],\n       [0.30266151, 0.69733849],\n       [0.27185955, 0.72814045],\n       [0.19163022, 0.80836978],\n       [0.43213937, 0.56786063],\n       [0.11918633, 0.88081367],\n       [0.36592775, 0.63407225],\n       [0.16784374, 0.83215626],\n       [0.21741104, 0.78258896],\n       [0.19880737, 0.80119263],\n       [0.31973303, 0.68026697],\n       [0.26258817, 0.73741183],\n       [0.33426822, 0.66573178],\n       [0.32510838, 0.67489162],\n       [0.11728802, 0.88271198],\n       [0.41277316, 0.58722684],\n       [0.30614026, 0.69385974],\n       [0.13906966, 0.86093034],\n       [0.14547238, 0.85452762],\n       [0.26620886, 0.73379114],\n       [0.24148239, 0.75851761],\n       [0.22242593, 0.77757407],\n       [0.18705662, 0.81294338],\n       [0.26640296, 0.73359704],\n       [0.47215269, 0.52784731],\n       [0.22776213, 0.77223787],\n       [0.35909828, 0.64090172],\n       [0.35166049, 0.64833951],\n       [0.2700897 , 0.7299103 ],\n       [0.37458945, 0.62541055],\n       [0.19122857, 0.80877143],\n       [0.18177757, 0.81822243],\n       [0.23800404, 0.76199596],\n       [0.18657985, 0.81342015],\n       [0.43194325, 0.56805675],\n       [0.5669859 , 0.4330141 ],\n       [0.43402113, 0.56597887],\n       [0.35683144, 0.64316856],\n       [0.13893865, 0.86106135],\n       [0.13686834, 0.86313166],\n       [0.44789423, 0.55210577],\n       [0.4784822 , 0.5215178 ],\n       [0.17394197, 0.82605803],\n       [0.39578999, 0.60421001],\n       [0.31214884, 0.68785116],\n       [0.46664674, 0.53335326],\n       [0.24892183, 0.75107817],\n       [0.1754261 , 0.8245739 ],\n       [0.15928824, 0.84071176],\n       [0.38238468, 0.61761532],\n       [0.20210322, 0.79789678],\n       [0.12433166, 0.87566834],\n       [0.26512455, 0.73487545],\n       [0.13120828, 0.86879172],\n       [0.16739953, 0.83260047],\n       [0.2824159 , 0.7175841 ],\n       [0.29326298, 0.70673702],\n       [0.40967013, 0.59032987],\n       [0.27020237, 0.72979763],\n       [0.45945339, 0.54054661],\n       [0.21442193, 0.78557807],\n       [0.44684867, 0.55315133],\n       [0.28074822, 0.71925178],\n       [0.18391804, 0.81608196],\n       [0.27429982, 0.72570018],\n       [0.42641659, 0.57358341],\n       [0.40403903, 0.59596097],\n       [0.12452647, 0.87547353],\n       [0.14742418, 0.85257582],\n       [0.20742986, 0.79257014],\n       [0.15110536, 0.84889464],\n       [0.32059573, 0.67940427],\n       [0.13314059, 0.86685941],\n       [0.31692534, 0.68307466],\n       [0.19337979, 0.80662021],\n       [0.12098837, 0.87901163],\n       [0.25853234, 0.74146766],\n       [0.1664346 , 0.8335654 ],\n       [0.32349361, 0.67650639],\n       [0.21093722, 0.78906278],\n       [0.16587977, 0.83412023],\n       [0.32668803, 0.67331197],\n       [0.19748321, 0.80251679],\n       [0.37827151, 0.62172849],\n       [0.09376128, 0.90623872],\n       [0.18817952, 0.81182048],\n       [0.13165747, 0.86834253],\n       [0.24368564, 0.75631436],\n       [0.32535313, 0.67464687],\n       [0.28828975, 0.71171025],\n       [0.14334457, 0.85665543],\n       [0.31752941, 0.68247059],\n       [0.29543907, 0.70456093],\n       [0.2054522 , 0.7945478 ],\n       [0.11862259, 0.88137741],\n       [0.23376928, 0.76623072],\n       [0.20959138, 0.79040862],\n       [0.21893597, 0.78106403],\n       [0.42353633, 0.57646367],\n       [0.36920818, 0.63079182],\n       [0.16898081, 0.83101919],\n       [0.23353051, 0.76646949],\n       [0.35164878, 0.64835122],\n       [0.45483967, 0.54516033],\n       [0.22714479, 0.77285521],\n       [0.2047933 , 0.7952067 ],\n       [0.43569474, 0.56430526],\n       [0.3304335 , 0.6695665 ],\n       [0.35404664, 0.64595336],\n       [0.1854172 , 0.8145828 ],\n       [0.15372592, 0.84627408],\n       [0.47236249, 0.52763751],\n       [0.10309541, 0.89690459],\n       [0.11023482, 0.88976518],\n       [0.37639108, 0.62360892],\n       [0.30303847, 0.69696153],\n       [0.22072622, 0.77927378],\n       [0.49404161, 0.50595839],\n       [0.19017217, 0.80982783],\n       [0.34378855, 0.65621145],\n       [0.32655869, 0.67344131],\n       [0.17220817, 0.82779183],\n       [0.1247704 , 0.8752296 ],\n       [0.1961899 , 0.8038101 ],\n       [0.27728155, 0.72271845],\n       [0.17036189, 0.82963811],\n       [0.20110456, 0.79889544],\n       [0.21323266, 0.78676734],\n       [0.31468616, 0.68531384],\n       [0.28816353, 0.71183647],\n       [0.49504132, 0.50495868],\n       [0.18813317, 0.81186683],\n       [0.15159757, 0.84840243],\n       [0.15441682, 0.84558318],\n       [0.31429254, 0.68570746],\n       [0.13248622, 0.86751378],\n       [0.1423672 , 0.8576328 ],\n       [0.41125322, 0.58874678],\n       [0.25802772, 0.74197228],\n       [0.2057614 , 0.7942386 ],\n       [0.12959981, 0.87040019],\n       [0.16690489, 0.83309511],\n       [0.2808408 , 0.7191592 ],\n       [0.2026412 , 0.7973588 ],\n       [0.26921976, 0.73078024],\n       [0.18419383, 0.81580617],\n       [0.25844044, 0.74155956],\n       [0.60400878, 0.39599122],\n       [0.19877285, 0.80122715],\n       [0.13638904, 0.86361096],\n       [0.23376572, 0.76623428],\n       [0.15839101, 0.84160899],\n       [0.11442433, 0.88557567],\n       [0.1488785 , 0.8511215 ],\n       [0.36723013, 0.63276987],\n       [0.13277657, 0.86722343],\n       [0.21251223, 0.78748777],\n       [0.28586221, 0.71413779],\n       [0.17737788, 0.82262212],\n       [0.27591724, 0.72408276],\n       [0.15268521, 0.84731479],\n       [0.28802178, 0.71197822],\n       [0.30091272, 0.69908728],\n       [0.22189175, 0.77810825],\n       [0.38083698, 0.61916302],\n       [0.32234759, 0.67765241],\n       [0.43629227, 0.56370773],\n       [0.13823044, 0.86176956],\n       [0.17775279, 0.82224721],\n       [0.28348494, 0.71651506],\n       [0.39844634, 0.60155366],\n       [0.2099091 , 0.7900909 ],\n       [0.33318927, 0.66681073],\n       [0.21230398, 0.78769602],\n       [0.34135529, 0.65864471],\n       [0.1468203 , 0.8531797 ],\n       [0.23089341, 0.76910659],\n       [0.35624446, 0.64375554],\n       [0.40410969, 0.59589031],\n       [0.10492425, 0.89507575],\n       [0.1903208 , 0.8096792 ],\n       [0.19405897, 0.80594103],\n       [0.13179847, 0.86820153],\n       [0.3521555 , 0.6478445 ],\n       [0.2796735 , 0.7203265 ],\n       [0.11639349, 0.88360651],\n       [0.12800633, 0.87199367],\n       [0.3501947 , 0.6498053 ],\n       [0.09330703, 0.90669297],\n       [0.14784684, 0.85215316],\n       [0.52471143, 0.47528857],\n       [0.3931477 , 0.6068523 ],\n       [0.25465666, 0.74534334],\n       [0.15036339, 0.84963661],\n       [0.17420075, 0.82579925],\n       [0.5397396 , 0.4602604 ],\n       [0.23058701, 0.76941299],\n       [0.33836117, 0.66163883],\n       [0.45776919, 0.54223081],\n       [0.17064971, 0.82935029],\n       [0.14268467, 0.85731533],\n       [0.42102345, 0.57897655],\n       [0.28966678, 0.71033322],\n       [0.33912484, 0.66087516],\n       [0.24010716, 0.75989284],\n       [0.21490564, 0.78509436],\n       [0.34343419, 0.65656581],\n       [0.23252834, 0.76747166],\n       [0.41309812, 0.58690188],\n       [0.45802318, 0.54197682],\n       [0.52037555, 0.47962445],\n       [0.3315711 , 0.6684289 ],\n       [0.11330327, 0.88669673],\n       [0.47460268, 0.52539732],\n       [0.3154833 , 0.6845167 ],\n       [0.26944048, 0.73055952],\n       [0.3180789 , 0.6819211 ],\n       [0.27639846, 0.72360154],\n       [0.15420225, 0.84579775],\n       [0.44059189, 0.55940811],\n       [0.27277126, 0.72722874],\n       [0.14567722, 0.85432278],\n       [0.16748595, 0.83251405],\n       [0.47748515, 0.52251485],\n       [0.36424233, 0.63575767],\n       [0.12703234, 0.87296766],\n       [0.20915452, 0.79084548],\n       [0.20909419, 0.79090581],\n       [0.14474702, 0.85525298],\n       [0.18797972, 0.81202028],\n       [0.3861197 , 0.6138803 ],\n       [0.21983831, 0.78016169],\n       [0.24345351, 0.75654649],\n       [0.28415175, 0.71584825],\n       [0.1650633 , 0.8349367 ],\n       [0.34450817, 0.65549183],\n       [0.3282527 , 0.6717473 ],\n       [0.28922581, 0.71077419],\n       [0.43298402, 0.56701598],\n       [0.48559615, 0.51440385],\n       [0.4734607 , 0.5265393 ],\n       [0.371157  , 0.628843  ],\n       [0.26175938, 0.73824062],\n       [0.35872163, 0.64127837],\n       [0.47374257, 0.52625743],\n       [0.33850272, 0.66149728],\n       [0.2265915 , 0.7734085 ],\n       [0.32772078, 0.67227922],\n       [0.14890264, 0.85109736],\n       [0.22110512, 0.77889488],\n       [0.29284929, 0.70715071],\n       [0.16205744, 0.83794256],\n       [0.10771028, 0.89228972],\n       [0.11490353, 0.88509647],\n       [0.24134963, 0.75865037],\n       [0.28429731, 0.71570269],\n       [0.25087123, 0.74912877],\n       [0.24857115, 0.75142885],\n       [0.12185444, 0.87814556],\n       [0.39430973, 0.60569027],\n       [0.19871427, 0.80128573],\n       [0.3126187 , 0.6873813 ],\n       [0.18387835, 0.81612165],\n       [0.16562683, 0.83437317],\n       [0.1744428 , 0.8255572 ],\n       [0.38825233, 0.61174767],\n       [0.5024396 , 0.4975604 ],\n       [0.31197531, 0.68802469],\n       [0.37569286, 0.62430714],\n       [0.55564144, 0.44435856],\n       [0.18204232, 0.81795768],\n       [0.30242034, 0.69757966],\n       [0.36156089, 0.63843911],\n       [0.29754794, 0.70245206],\n       [0.41535693, 0.58464307],\n       [0.13548324, 0.86451676],\n       [0.35944996, 0.64055004],\n       [0.30333838, 0.69666162],\n       [0.18045512, 0.81954488],\n       [0.40981799, 0.59018201],\n       [0.20794458, 0.79205542],\n       [0.35913043, 0.64086957],\n       [0.23250934, 0.76749066],\n       [0.09425517, 0.90574483],\n       [0.17095401, 0.82904599],\n       [0.22565656, 0.77434344],\n       [0.39832186, 0.60167814],\n       [0.48654297, 0.51345703],\n       [0.3391329 , 0.6608671 ],\n       [0.53960372, 0.46039628],\n       [0.16229175, 0.83770825],\n       [0.18811434, 0.81188566],\n       [0.26037332, 0.73962668],\n       [0.45376751, 0.54623249],\n       [0.24801758, 0.75198242],\n       [0.28385942, 0.71614058],\n       [0.31768767, 0.68231233],\n       [0.28043677, 0.71956323],\n       [0.12596697, 0.87403303],\n       [0.32193792, 0.67806208],\n       [0.3154558 , 0.6845442 ],\n       [0.1482671 , 0.8517329 ],\n       [0.37910115, 0.62089885],\n       [0.32746027, 0.67253973],\n       [0.45641475, 0.54358525],\n       [0.20202032, 0.79797968],\n       [0.3931713 , 0.6068287 ],\n       [0.35435219, 0.64564781],\n       [0.1573348 , 0.8426652 ],\n       [0.15098157, 0.84901843],\n       [0.37317045, 0.62682955],\n       [0.14034408, 0.85965592],\n       [0.31831222, 0.68168778],\n       [0.23695493, 0.76304507],\n       [0.11893712, 0.88106288],\n       [0.23651239, 0.76348761],\n       [0.1525624 , 0.8474376 ],\n       [0.19657426, 0.80342574],\n       [0.36429734, 0.63570266],\n       [0.47067437, 0.52932563],\n       [0.16382863, 0.83617137],\n       [0.19562428, 0.80437572],\n       [0.31493735, 0.68506265],\n       [0.20271394, 0.79728606],\n       [0.38056717, 0.61943283],\n       [0.4805423 , 0.5194577 ],\n       [0.41491251, 0.58508749],\n       [0.2286319 , 0.7713681 ],\n       [0.21394331, 0.78605669],\n       [0.46517333, 0.53482667],\n       [0.48366462, 0.51633538],\n       [0.37145605, 0.62854395],\n       [0.3257107 , 0.6742893 ],\n       [0.46127194, 0.53872806],\n       [0.31556459, 0.68443541],\n       [0.15439968, 0.84560032],\n       [0.23082751, 0.76917249],\n       [0.27162554, 0.72837446],\n       [0.38414586, 0.61585414],\n       [0.42943425, 0.57056575],\n       [0.30950137, 0.69049863],\n       [0.22182194, 0.77817806],\n       [0.2844768 , 0.7155232 ],\n       [0.32226974, 0.67773026],\n       [0.40560736, 0.59439264],\n       [0.25365225, 0.74634775],\n       [0.33206005, 0.66793995],\n       [0.10862093, 0.89137907],\n       [0.34337837, 0.65662163],\n       [0.28484652, 0.71515348],\n       [0.3020374 , 0.6979626 ],\n       [0.13839734, 0.86160266],\n       [0.27065541, 0.72934459],\n       [0.26134305, 0.73865695],\n       [0.38899941, 0.61100059],\n       [0.2009057 , 0.7990943 ],\n       [0.3036456 , 0.6963544 ],\n       [0.16150038, 0.83849962],\n       [0.27961358, 0.72038642],\n       [0.3280344 , 0.6719656 ],\n       [0.21448493, 0.78551507],\n       [0.10197171, 0.89802829],\n       [0.26218081, 0.73781919],\n       [0.21649969, 0.78350031],\n       [0.45905691, 0.54094309],\n       [0.43033263, 0.56966737],\n       [0.26529884, 0.73470116],\n       [0.1523075 , 0.8476925 ],\n       [0.32129198, 0.67870802],\n       [0.175903  , 0.824097  ],\n       [0.18321224, 0.81678776],\n       [0.42512617, 0.57487383],\n       [0.20416714, 0.79583286],\n       [0.24821626, 0.75178374],\n       [0.47504969, 0.52495031],\n       [0.38452294, 0.61547706],\n       [0.5687529 , 0.4312471 ],\n       [0.25762724, 0.74237276],\n       [0.40243345, 0.59756655],\n       [0.50189407, 0.49810593],\n       [0.22469191, 0.77530809],\n       [0.2140214 , 0.7859786 ],\n       [0.275907  , 0.724093  ],\n       [0.10139682, 0.89860318],\n       [0.34116915, 0.65883085],\n       [0.26818331, 0.73181669],\n       [0.28240569, 0.71759431],\n       [0.48260283, 0.51739717],\n       [0.32689736, 0.67310264],\n       [0.41634354, 0.58365646],\n       [0.13562959, 0.86437041],\n       [0.16157518, 0.83842482],\n       [0.53244896, 0.46755104],\n       [0.35648497, 0.64351503],\n       [0.47320824, 0.52679176],\n       [0.2919407 , 0.7080593 ],\n       [0.10913547, 0.89086453],\n       [0.32462038, 0.67537962],\n       [0.20567376, 0.79432624],\n       [0.22153732, 0.77846268],\n       [0.17708468, 0.82291532],\n       [0.23515065, 0.76484935],\n       [0.18857143, 0.81142857],\n       [0.20568402, 0.79431598],\n       [0.35167071, 0.64832929],\n       [0.32535945, 0.67464055],\n       [0.39639084, 0.60360916],\n       [0.20905961, 0.79094039],\n       [0.13239791, 0.86760209],\n       [0.35339327, 0.64660673],\n       [0.29987843, 0.70012157],\n       [0.2483199 , 0.7516801 ],\n       [0.211943  , 0.788057  ],\n       [0.16782643, 0.83217357],\n       [0.20937107, 0.79062893],\n       [0.31386293, 0.68613707],\n       [0.19696394, 0.80303606],\n       [0.23448245, 0.76551755],\n       [0.11069084, 0.88930916],\n       [0.46364495, 0.53635505],\n       [0.29659296, 0.70340704],\n       [0.20786784, 0.79213216],\n       [0.28587042, 0.71412958],\n       [0.43898447, 0.56101553],\n       [0.10779029, 0.89220971],\n       [0.17095774, 0.82904226],\n       [0.20005274, 0.79994726],\n       [0.16743846, 0.83256154],\n       [0.22196261, 0.77803739],\n       [0.14980954, 0.85019046],\n       [0.17015136, 0.82984864],\n       [0.2278619 , 0.7721381 ],\n       [0.15104683, 0.84895317],\n       [0.30735643, 0.69264357],\n       [0.36166266, 0.63833734],\n       [0.45927609, 0.54072391],\n       [0.31679901, 0.68320099],\n       [0.21646048, 0.78353952],\n       [0.27984053, 0.72015947],\n       [0.26755148, 0.73244852],\n       [0.13915646, 0.86084354],\n       [0.43869959, 0.56130041],\n       [0.14264878, 0.85735122],\n       [0.08713217, 0.91286783],\n       [0.32971851, 0.67028149],\n       [0.33295357, 0.66704643],\n       [0.44332885, 0.55667115],\n       [0.31296948, 0.68703052],\n       [0.30158641, 0.69841359],\n       [0.33349585, 0.66650415],\n       [0.18447362, 0.81552638],\n       [0.33438181, 0.66561819],\n       [0.50601985, 0.49398015],\n       [0.16429452, 0.83570548],\n       [0.21584583, 0.78415417],\n       [0.14707902, 0.85292098],\n       [0.50994834, 0.49005166],\n       [0.29013155, 0.70986845],\n       [0.30620956, 0.69379044],\n       [0.36004316, 0.63995684],\n       [0.5088131 , 0.4911869 ],\n       [0.26877816, 0.73122184],\n       [0.15133998, 0.84866002],\n       [0.44933153, 0.55066847],\n       [0.44864847, 0.55135153],\n       [0.15256597, 0.84743403],\n       [0.52313881, 0.47686119],\n       [0.2574305 , 0.7425695 ],\n       [0.21899534, 0.78100466],\n       [0.10238243, 0.89761757],\n       [0.3655229 , 0.6344771 ],\n       [0.2051833 , 0.7948167 ],\n       [0.23919106, 0.76080894],\n       [0.13658722, 0.86341278],\n       [0.44935975, 0.55064025],\n       [0.34434472, 0.65565528],\n       [0.15593629, 0.84406371],\n       [0.31133967, 0.68866033],\n       [0.45469087, 0.54530913],\n       [0.58415144, 0.41584856],\n       [0.30400525, 0.69599475],\n       [0.16385695, 0.83614305],\n       [0.10747137, 0.89252863],\n       [0.1679952 , 0.8320048 ],\n       [0.22971319, 0.77028681],\n       [0.12955808, 0.87044192],\n       [0.18521736, 0.81478264],\n       [0.16301199, 0.83698801],\n       [0.13007973, 0.86992027],\n       [0.34875555, 0.65124445],\n       [0.28465997, 0.71534003],\n       [0.40750175, 0.59249825],\n       [0.27076161, 0.72923839],\n       [0.35089031, 0.64910969],\n       [0.29783189, 0.70216811],\n       [0.16173339, 0.83826661],\n       [0.36860256, 0.63139744],\n       [0.39747726, 0.60252274],\n       [0.48223298, 0.51776702],\n       [0.32977987, 0.67022013],\n       [0.42283198, 0.57716802],\n       [0.14360864, 0.85639136],\n       [0.46471344, 0.53528656],\n       [0.5258797 , 0.4741203 ],\n       [0.50798668, 0.49201332],\n       [0.15290684, 0.84709316],\n       [0.19321217, 0.80678783],\n       [0.26189862, 0.73810138],\n       [0.39350588, 0.60649412],\n       [0.50018754, 0.49981246],\n       [0.22293796, 0.77706204],\n       [0.23510499, 0.76489501],\n       [0.28768654, 0.71231346],\n       [0.26747592, 0.73252408],\n       [0.10075714, 0.89924286],\n       [0.13465898, 0.86534102],\n       [0.31089604, 0.68910396],\n       [0.37591015, 0.62408985],\n       [0.23997027, 0.76002973],\n       [0.25517949, 0.74482051],\n       [0.22864097, 0.77135903],\n       [0.31098117, 0.68901883],\n       [0.34445488, 0.65554512],\n       [0.42387572, 0.57612428],\n       [0.12714725, 0.87285275],\n       [0.23557023, 0.76442977],\n       [0.35921079, 0.64078921],\n       [0.33641695, 0.66358305],\n       [0.20557353, 0.79442647],\n       [0.25069676, 0.74930324],\n       [0.32404401, 0.67595599],\n       [0.49877874, 0.50122126],\n       [0.25574319, 0.74425681],\n       [0.4074769 , 0.5925231 ],\n       [0.40368705, 0.59631295],\n       [0.23915717, 0.76084283],\n       [0.47945417, 0.52054583],\n       [0.14400636, 0.85599364],\n       [0.41356475, 0.58643525],\n       [0.36165082, 0.63834918],\n       [0.23643091, 0.76356909],\n       [0.23587509, 0.76412491],\n       [0.13996166, 0.86003834],\n       [0.27361228, 0.72638772],\n       [0.34038839, 0.65961161],\n       [0.22060022, 0.77939978],\n       [0.2548824 , 0.7451176 ],\n       [0.22620973, 0.77379027],\n       [0.20094886, 0.79905114],\n       [0.3663062 , 0.6336938 ],\n       [0.4338541 , 0.5661459 ],\n       [0.20908227, 0.79091773],\n       [0.20654459, 0.79345541],\n       [0.51653577, 0.48346423],\n       [0.28142259, 0.71857741],\n       [0.22963686, 0.77036314],\n       [0.31400812, 0.68599188],\n       [0.40871678, 0.59128322],\n       [0.46535987, 0.53464013],\n       [0.20078305, 0.79921695],\n       [0.4494823 , 0.5505177 ],\n       [0.3614788 , 0.6385212 ],\n       [0.3605216 , 0.6394784 ],\n       [0.16515746, 0.83484254],\n       [0.28592239, 0.71407761],\n       [0.31277337, 0.68722663],\n       [0.22744777, 0.77255223],\n       [0.34712106, 0.65287894],\n       [0.1518362 , 0.8481638 ],\n       [0.13801498, 0.86198502],\n       [0.41857966, 0.58142034],\n       [0.17727042, 0.82272958],\n       [0.28225347, 0.71774653],\n       [0.39217506, 0.60782494],\n       [0.46960583, 0.53039417],\n       [0.15683546, 0.84316454],\n       [0.16358315, 0.83641685],\n       [0.11446683, 0.88553317],\n       [0.1851902 , 0.8148098 ],\n       [0.40895448, 0.59104552],\n       [0.39042754, 0.60957246],\n       [0.29614351, 0.70385649],\n       [0.15167079, 0.84832921],\n       [0.21506163, 0.78493837],\n       [0.29774899, 0.70225101],\n       [0.14335765, 0.85664235],\n       [0.42835378, 0.57164622],\n       [0.12797862, 0.87202138],\n       [0.39822197, 0.60177803],\n       [0.19357638, 0.80642362],\n       [0.14491858, 0.85508142],\n       [0.18172072, 0.81827928],\n       [0.37766123, 0.62233877],\n       [0.12057697, 0.87942303],\n       [0.20621909, 0.79378091],\n       [0.24791839, 0.75208161],\n       [0.25710164, 0.74289836],\n       [0.14085428, 0.85914572],\n       [0.12918736, 0.87081264],\n       [0.29790863, 0.70209137],\n       [0.2411791 , 0.7588209 ],\n       [0.5216882 , 0.4783118 ],\n       [0.19486582, 0.80513418],\n       [0.36495683, 0.63504317],\n       [0.31493682, 0.68506318],\n       [0.40464139, 0.59535861],\n       [0.53626239, 0.46373761],\n       [0.18910578, 0.81089422],\n       [0.36320471, 0.63679529],\n       [0.28109729, 0.71890271],\n       [0.41520438, 0.58479562],\n       [0.38464856, 0.61535144],\n       [0.37955005, 0.62044995],\n       [0.14755249, 0.85244751],\n       [0.36088368, 0.63911632],\n       [0.23910915, 0.76089085],\n       [0.59650267, 0.40349733],\n       [0.11935237, 0.88064763],\n       [0.24236387, 0.75763613],\n       [0.24178194, 0.75821806],\n       [0.39552806, 0.60447194],\n       [0.28100217, 0.71899783],\n       [0.3138512 , 0.6861488 ],\n       [0.40831149, 0.59168851],\n       [0.20123227, 0.79876773],\n       [0.25561739, 0.74438261],\n       [0.28906007, 0.71093993],\n       [0.29095495, 0.70904505],\n       [0.4838984 , 0.5161016 ],\n       [0.1445049 , 0.8554951 ],\n       [0.11027688, 0.88972312],\n       [0.13105935, 0.86894065],\n       [0.31846164, 0.68153836],\n       [0.43321739, 0.56678261],\n       [0.16901319, 0.83098681],\n       [0.19029053, 0.80970947],\n       [0.15964728, 0.84035272],\n       [0.51638705, 0.48361295],\n       [0.18464387, 0.81535613],\n       [0.19545056, 0.80454944],\n       [0.32537452, 0.67462548],\n       [0.41362371, 0.58637629],\n       [0.19964052, 0.80035948],\n       [0.37780163, 0.62219837],\n       [0.28945607, 0.71054393],\n       [0.18243431, 0.81756569],\n       [0.1527331 , 0.8472669 ],\n       [0.247293  , 0.752707  ],\n       [0.14964511, 0.85035489],\n       [0.47660197, 0.52339803],\n       [0.46362162, 0.53637838],\n       [0.17620161, 0.82379839],\n       [0.52936571, 0.47063429],\n       [0.14468043, 0.85531957],\n       [0.42100435, 0.57899565],\n       [0.14278128, 0.85721872],\n       [0.19298891, 0.80701109],\n       [0.17109298, 0.82890702],\n       [0.15429946, 0.84570054],\n       [0.38857826, 0.61142174],\n       [0.23901094, 0.76098906],\n       [0.47367999, 0.52632001],\n       [0.16303637, 0.83696363],\n       [0.31359183, 0.68640817],\n       [0.18725948, 0.81274052],\n       [0.18407616, 0.81592384],\n       [0.49883655, 0.50116345],\n       [0.09382426, 0.90617574],\n       [0.2955133 , 0.7044867 ],\n       [0.33046277, 0.66953723],\n       [0.44684326, 0.55315674],\n       [0.19810063, 0.80189937],\n       [0.44578829, 0.55421171],\n       [0.33432778, 0.66567222],\n       [0.545572  , 0.454428  ],\n       [0.34219487, 0.65780513],\n       [0.30885388, 0.69114612],\n       [0.18449859, 0.81550141],\n       [0.2327801 , 0.7672199 ],\n       [0.23234311, 0.76765689],\n       [0.10497777, 0.89502223],\n       [0.15177662, 0.84822338],\n       [0.27455699, 0.72544301],\n       [0.29259071, 0.70740929],\n       [0.13485134, 0.86514866],\n       [0.34920774, 0.65079226],\n       [0.22351731, 0.77648269],\n       [0.18781663, 0.81218337],\n       [0.21214988, 0.78785012],\n       [0.11173706, 0.88826294],\n       [0.19025049, 0.80974951],\n       [0.17736939, 0.82263061],\n       [0.17088343, 0.82911657],\n       [0.45954298, 0.54045702],\n       [0.13465327, 0.86534673],\n       [0.27086765, 0.72913235],\n       [0.32026186, 0.67973814],\n       [0.19994183, 0.80005817],\n       [0.19545288, 0.80454712],\n       [0.30830823, 0.69169177],\n       [0.16167859, 0.83832141],\n       [0.4442461 , 0.5557539 ],\n       [0.15763788, 0.84236212],\n       [0.13137667, 0.86862333],\n       [0.47735785, 0.52264215],\n       [0.30191401, 0.69808599],\n       [0.30213397, 0.69786603],\n       [0.32125393, 0.67874607],\n       [0.17091601, 0.82908399],\n       [0.55317933, 0.44682067],\n       [0.2633029 , 0.7366971 ],\n       [0.21679827, 0.78320173],\n       [0.1997282 , 0.8002718 ],\n       [0.52315799, 0.47684201],\n       [0.20099468, 0.79900532],\n       [0.30966963, 0.69033037],\n       [0.14028809, 0.85971191],\n       [0.16395535, 0.83604465],\n       [0.30427785, 0.69572215],\n       [0.33362893, 0.66637107],\n       [0.39045767, 0.60954233],\n       [0.38546505, 0.61453495],\n       [0.13546616, 0.86453384],\n       [0.40574132, 0.59425868],\n       [0.32017917, 0.67982083],\n       [0.28189054, 0.71810946],\n       [0.22860127, 0.77139873],\n       [0.24224178, 0.75775822],\n       [0.21502766, 0.78497234],\n       [0.17159706, 0.82840294],\n       [0.21756035, 0.78243965],\n       [0.35077729, 0.64922271],\n       [0.45491489, 0.54508511],\n       [0.35787104, 0.64212896],\n       [0.32564262, 0.67435738],\n       [0.22044735, 0.77955265],\n       [0.46190837, 0.53809163],\n       [0.55000121, 0.44999879],\n       [0.45876802, 0.54123198],\n       [0.21765082, 0.78234918],\n       [0.15162722, 0.84837278],\n       [0.44857596, 0.55142404],\n       [0.21961092, 0.78038908],\n       [0.30418707, 0.69581293],\n       [0.19832413, 0.80167587],\n       [0.1212577 , 0.8787423 ],\n       [0.26254028, 0.73745972],\n       [0.31225572, 0.68774428],\n       [0.17599882, 0.82400118],\n       [0.29113515, 0.70886485],\n       [0.32691599, 0.67308401],\n       [0.35928122, 0.64071878],\n       [0.18998665, 0.81001335],\n       [0.31987127, 0.68012873],\n       [0.27742409, 0.72257591],\n       [0.15737576, 0.84262424],\n       [0.25771257, 0.74228743],\n       [0.13887669, 0.86112331],\n       [0.26907859, 0.73092141],\n       [0.16587453, 0.83412547],\n       [0.49786116, 0.50213884],\n       [0.18170135, 0.81829865],\n       [0.17558859, 0.82441141],\n       [0.13881864, 0.86118136],\n       [0.1800269 , 0.8199731 ],\n       [0.32110367, 0.67889633],\n       [0.30018628, 0.69981372],\n       [0.28707287, 0.71292713],\n       [0.176994  , 0.823006  ],\n       [0.52108443, 0.47891557],\n       [0.15424943, 0.84575057],\n       [0.2697449 , 0.7302551 ],\n       [0.20036588, 0.79963412],\n       [0.26349243, 0.73650757],\n       [0.17577337, 0.82422663],\n       [0.33063082, 0.66936918],\n       [0.34735229, 0.65264771],\n       [0.33063866, 0.66936134],\n       [0.25777442, 0.74222558],\n       [0.28261381, 0.71738619],\n       [0.30693877, 0.69306123],\n       [0.37066157, 0.62933843],\n       [0.39714893, 0.60285107],\n       [0.22767415, 0.77232585],\n       [0.17107076, 0.82892924],\n       [0.27020752, 0.72979248],\n       [0.37018014, 0.62981986],\n       [0.17283955, 0.82716045],\n       [0.35625734, 0.64374266],\n       [0.194587  , 0.805413  ],\n       [0.23912779, 0.76087221],\n       [0.30082842, 0.69917158],\n       [0.19165974, 0.80834026],\n       [0.23408635, 0.76591365],\n       [0.16997524, 0.83002476],\n       [0.27716516, 0.72283484],\n       [0.2454889 , 0.7545111 ],\n       [0.50569557, 0.49430443],\n       [0.18308886, 0.81691114],\n       [0.34709055, 0.65290945],\n       [0.33687474, 0.66312526],\n       [0.19514859, 0.80485141],\n       [0.31999253, 0.68000747],\n       [0.45698227, 0.54301773],\n       [0.25204251, 0.74795749],\n       [0.25024048, 0.74975952],\n       [0.17660179, 0.82339821],\n       [0.12549174, 0.87450826],\n       [0.53613068, 0.46386932],\n       [0.46017156, 0.53982844],\n       [0.31473943, 0.68526057],\n       [0.16043212, 0.83956788],\n       [0.22952627, 0.77047373],\n       [0.12838392, 0.87161608],\n       [0.41275018, 0.58724982],\n       [0.32407236, 0.67592764],\n       [0.20212393, 0.79787607],\n       [0.23275532, 0.76724468],\n       [0.55413666, 0.44586334],\n       [0.45465503, 0.54534497],\n       [0.19339781, 0.80660219],\n       [0.46040699, 0.53959301],\n       [0.13072686, 0.86927314],\n       [0.18361769, 0.81638231],\n       [0.10499125, 0.89500875],\n       [0.19111118, 0.80888882],\n       [0.4244726 , 0.5755274 ],\n       [0.3944879 , 0.6055121 ],\n       [0.11645667, 0.88354333],\n       [0.23620362, 0.76379638],\n       [0.55720583, 0.44279417],\n       [0.13357884, 0.86642116],\n       [0.20464435, 0.79535565],\n       [0.39995249, 0.60004751],\n       [0.38040414, 0.61959586],\n       [0.22597718, 0.77402282],\n       [0.28239381, 0.71760619],\n       [0.34825628, 0.65174372],\n       [0.31925215, 0.68074785],\n       [0.19593399, 0.80406601],\n       [0.41365119, 0.58634881],\n       [0.34104133, 0.65895867],\n       [0.25508601, 0.74491399],\n       [0.18266718, 0.81733282],\n       [0.47338478, 0.52661522],\n       [0.21610487, 0.78389513],\n       [0.14695187, 0.85304813],\n       [0.32686725, 0.67313275],\n       [0.21998053, 0.78001947],\n       [0.21268025, 0.78731975],\n       [0.23539461, 0.76460539],\n       [0.20186943, 0.79813057],\n       [0.41906056, 0.58093944],\n       [0.23439639, 0.76560361],\n       [0.33015497, 0.66984503],\n       [0.23610583, 0.76389417],\n       [0.14002749, 0.85997251],\n       [0.25042968, 0.74957032],\n       [0.12742395, 0.87257605],\n       [0.16277671, 0.83722329],\n       [0.46007717, 0.53992283],\n       [0.36747363, 0.63252637],\n       [0.2201495 , 0.7798505 ],\n       [0.4067542 , 0.5932458 ],\n       [0.36702065, 0.63297935],\n       [0.23932993, 0.76067007],\n       [0.35026481, 0.64973519],\n       [0.15374054, 0.84625946],\n       [0.33896324, 0.66103676],\n       [0.31593779, 0.68406221],\n       [0.33930616, 0.66069384],\n       [0.158333  , 0.841667  ],\n       [0.13126438, 0.86873562],\n       [0.2562314 , 0.7437686 ],\n       [0.24998997, 0.75001003],\n       [0.19216523, 0.80783477],\n       [0.1412747 , 0.8587253 ],\n       [0.20568968, 0.79431032],\n       [0.27469484, 0.72530516],\n       [0.34129973, 0.65870027],\n       [0.30291622, 0.69708378],\n       [0.24534347, 0.75465653],\n       [0.16088387, 0.83911613],\n       [0.25594567, 0.74405433],\n       [0.142238  , 0.857762  ],\n       [0.56514782, 0.43485218],\n       [0.21506025, 0.78493975],\n       [0.29245797, 0.70754203],\n       [0.5024623 , 0.4975377 ],\n       [0.19297585, 0.80702415],\n       [0.40134283, 0.59865717],\n       [0.44542961, 0.55457039],\n       [0.13013866, 0.86986134],\n       [0.53013981, 0.46986019],\n       [0.1232088 , 0.8767912 ],\n       [0.3417678 , 0.6582322 ],\n       [0.32242682, 0.67757318],\n       [0.2117568 , 0.7882432 ],\n       [0.21862684, 0.78137316],\n       [0.36816661, 0.63183339],\n       [0.29447448, 0.70552552],\n       [0.41826631, 0.58173369],\n       [0.1378545 , 0.8621455 ],\n       [0.24989559, 0.75010441],\n       [0.17611915, 0.82388085],\n       [0.09311113, 0.90688887],\n       [0.18016163, 0.81983837],\n       [0.14594265, 0.85405735],\n       [0.16633696, 0.83366304],\n       [0.27793234, 0.72206766],\n       [0.3093309 , 0.6906691 ],\n       [0.47039792, 0.52960208],\n       [0.19288223, 0.80711777],\n       [0.32888752, 0.67111248],\n       [0.3336612 , 0.6663388 ],\n       [0.46140189, 0.53859811],\n       [0.13080846, 0.86919154],\n       [0.40275615, 0.59724385],\n       [0.16549976, 0.83450024],\n       [0.11103602, 0.88896398],\n       [0.45316872, 0.54683128],\n       [0.25964517, 0.74035483],\n       [0.19354789, 0.80645211],\n       [0.36309054, 0.63690946],\n       [0.25690216, 0.74309784],\n       [0.41751268, 0.58248732],\n       [0.12578476, 0.87421524],\n       [0.39478769, 0.60521231],\n       [0.18486275, 0.81513725],\n       [0.31084748, 0.68915252],\n       [0.1918535 , 0.8081465 ],\n       [0.50803944, 0.49196056],\n       [0.19370486, 0.80629514],\n       [0.44502261, 0.55497739],\n       [0.27367456, 0.72632544],\n       [0.29569864, 0.70430136],\n       [0.23877155, 0.76122845],\n       [0.40830719, 0.59169281],\n       [0.43200488, 0.56799512],\n       [0.36348122, 0.63651878],\n       [0.4493244 , 0.5506756 ],\n       [0.19329563, 0.80670437],\n       [0.52531016, 0.47468984],\n       [0.48547116, 0.51452884],\n       [0.17680944, 0.82319056],\n       [0.1809867 , 0.8190133 ],\n       [0.22007241, 0.77992759],\n       [0.29259657, 0.70740343],\n       [0.22311335, 0.77688665],\n       [0.19163856, 0.80836144],\n       [0.33587792, 0.66412208],\n       [0.25879018, 0.74120982],\n       [0.43448078, 0.56551922],\n       [0.17110976, 0.82889024],\n       [0.43394637, 0.56605363],\n       [0.28072646, 0.71927354],\n       [0.12163043, 0.87836957],\n       [0.31910319, 0.68089681],\n       [0.42470481, 0.57529519],\n       [0.15220528, 0.84779472],\n       [0.29873993, 0.70126007],\n       [0.3627616 , 0.6372384 ],\n       [0.1928723 , 0.8071277 ],\n       [0.36002521, 0.63997479],\n       [0.42666251, 0.57333749],\n       [0.3494227 , 0.6505773 ],\n       [0.19309211, 0.80690789],\n       [0.16132391, 0.83867609],\n       [0.25752441, 0.74247559],\n       [0.0958409 , 0.9041591 ],\n       [0.34614366, 0.65385634],\n       [0.22060573, 0.77939427],\n       [0.50122286, 0.49877714],\n       [0.30527763, 0.69472237],\n       [0.28596654, 0.71403346],\n       [0.26385178, 0.73614822],\n       [0.21983049, 0.78016951],\n       [0.33349438, 0.66650562],\n       [0.37833216, 0.62166784],\n       [0.42103518, 0.57896482],\n       [0.41483883, 0.58516117],\n       [0.1868578 , 0.8131422 ],\n       [0.22779782, 0.77220218],\n       [0.15208237, 0.84791763],\n       [0.3063235 , 0.6936765 ],\n       [0.24870123, 0.75129877],\n       [0.27206879, 0.72793121],\n       [0.26725543, 0.73274457],\n       [0.20677744, 0.79322256],\n       [0.38436129, 0.61563871],\n       [0.31272696, 0.68727304],\n       [0.31290686, 0.68709314],\n       [0.17460571, 0.82539429],\n       [0.1566345 , 0.8433655 ],\n       [0.34397614, 0.65602386],\n       [0.20379874, 0.79620126],\n       [0.47135615, 0.52864385],\n       [0.28586521, 0.71413479],\n       [0.3516453 , 0.6483547 ],\n       [0.27332827, 0.72667173],\n       [0.11419616, 0.88580384],\n       [0.19859184, 0.80140816],\n       [0.23845892, 0.76154108],\n       [0.35713559, 0.64286441],\n       [0.31319213, 0.68680787],\n       [0.19669883, 0.80330117],\n       [0.22121642, 0.77878358],\n       [0.14156012, 0.85843988],\n       [0.38055203, 0.61944797],\n       [0.45533776, 0.54466224],\n       [0.36339039, 0.63660961],\n       [0.23639794, 0.76360206],\n       [0.37570091, 0.62429909],\n       [0.23620719, 0.76379281],\n       [0.20425678, 0.79574322],\n       [0.48989018, 0.51010982],\n       [0.54823048, 0.45176952],\n       [0.3221879 , 0.6778121 ],\n       [0.19067736, 0.80932264],\n       [0.42793758, 0.57206242],\n       [0.34157368, 0.65842632],\n       [0.52296211, 0.47703789],\n       [0.11422069, 0.88577931],\n       [0.09754331, 0.90245669],\n       [0.26453649, 0.73546351],\n       [0.26991617, 0.73008383],\n       [0.39463282, 0.60536718],\n       [0.15708898, 0.84291102],\n       [0.46205376, 0.53794624],\n       [0.28382113, 0.71617887],\n       [0.54035944, 0.45964056],\n       [0.18930902, 0.81069098],\n       [0.29234712, 0.70765288],\n       [0.40662769, 0.59337231],\n       [0.39350328, 0.60649672],\n       [0.17531992, 0.82468008],\n       [0.49142386, 0.50857614],\n       [0.18140072, 0.81859928],\n       [0.2518261 , 0.7481739 ],\n       [0.1960025 , 0.8039975 ],\n       [0.40793542, 0.59206458],\n       [0.38171034, 0.61828966],\n       [0.19253772, 0.80746228],\n       [0.44170593, 0.55829407],\n       [0.22755668, 0.77244332],\n       [0.22535096, 0.77464904],\n       [0.46020229, 0.53979771],\n       [0.20290736, 0.79709264],\n       [0.30157583, 0.69842417],\n       [0.13515823, 0.86484177],\n       [0.27678982, 0.72321018],\n       [0.45361814, 0.54638186],\n       [0.15700049, 0.84299951],\n       [0.20187617, 0.79812383],\n       [0.27326544, 0.72673456],\n       [0.45115571, 0.54884429],\n       [0.23462714, 0.76537286],\n       [0.38350976, 0.61649024],\n       [0.29755491, 0.70244509],\n       [0.15490654, 0.84509346],\n       [0.38091008, 0.61908992],\n       [0.42825115, 0.57174885],\n       [0.40409194, 0.59590806],\n       [0.17918397, 0.82081603],\n       [0.51990419, 0.48009581],\n       [0.21372725, 0.78627275],\n       [0.51523318, 0.48476682],\n       [0.17914257, 0.82085743],\n       [0.35674828, 0.64325172],\n       [0.18634656, 0.81365344],\n       [0.190704  , 0.809296  ],\n       [0.21460584, 0.78539416],\n       [0.30776331, 0.69223669],\n       [0.11664489, 0.88335511],\n       [0.39084894, 0.60915106],\n       [0.13126097, 0.86873903],\n       [0.41278895, 0.58721105],\n       [0.34859147, 0.65140853],\n       [0.23278748, 0.76721252],\n       [0.38652518, 0.61347482],\n       [0.19834403, 0.80165597],\n       [0.43155662, 0.56844338],\n       [0.17105901, 0.82894099],\n       [0.46385629, 0.53614371],\n       [0.157943  , 0.842057  ],\n       [0.30975019, 0.69024981],\n       [0.21371706, 0.78628294],\n       [0.21495966, 0.78504034],\n       [0.22536228, 0.77463772],\n       [0.4651299 , 0.5348701 ],\n       [0.36226714, 0.63773286],\n       [0.21130723, 0.78869277],\n       [0.16129453, 0.83870547],\n       [0.28410157, 0.71589843],\n       [0.44578336, 0.55421664],\n       [0.24152011, 0.75847989],\n       [0.34213163, 0.65786837],\n       [0.17950486, 0.82049514],\n       [0.27316229, 0.72683771],\n       [0.40464999, 0.59535001],\n       [0.47412661, 0.52587339],\n       [0.1423251 , 0.8576749 ],\n       [0.42180078, 0.57819922],\n       [0.15501729, 0.84498271],\n       [0.23129714, 0.76870286],\n       [0.21928357, 0.78071643],\n       [0.27697022, 0.72302978],\n       [0.21644104, 0.78355896],\n       [0.36151811, 0.63848189],\n       [0.21359556, 0.78640444],\n       [0.40241366, 0.59758634],\n       [0.28790634, 0.71209366],\n       [0.29545101, 0.70454899],\n       [0.32064703, 0.67935297],\n       [0.16375242, 0.83624758],\n       [0.30464792, 0.69535208],\n       [0.22226855, 0.77773145],\n       [0.27669854, 0.72330146],\n       [0.22604167, 0.77395833],\n       [0.41501437, 0.58498563],\n       [0.21789665, 0.78210335],\n       [0.13169107, 0.86830893],\n       [0.36495896, 0.63504104],\n       [0.39734346, 0.60265654],\n       [0.13096975, 0.86903025],\n       [0.11578725, 0.88421275],\n       [0.43665439, 0.56334561],\n       [0.50035945, 0.49964055],\n       [0.24043544, 0.75956456],\n       [0.37615936, 0.62384064],\n       [0.18199697, 0.81800303],\n       [0.15652607, 0.84347393],\n       [0.25360126, 0.74639874],\n       [0.25101126, 0.74898874],\n       [0.26199135, 0.73800865],\n       [0.28744656, 0.71255344],\n       [0.33031625, 0.66968375],\n       [0.33402942, 0.66597058],\n       [0.12767719, 0.87232281],\n       [0.49210345, 0.50789655],\n       [0.16557082, 0.83442918],\n       [0.14567105, 0.85432895],\n       [0.11647674, 0.88352326],\n       [0.17289086, 0.82710914],\n       [0.3232606 , 0.6767394 ],\n       [0.1516852 , 0.8483148 ],\n       [0.42814433, 0.57185567],\n       [0.1168527 , 0.8831473 ],\n       [0.13511848, 0.86488152],\n       [0.30919579, 0.69080421],\n       [0.17963369, 0.82036631],\n       [0.45872927, 0.54127073],\n       [0.34444597, 0.65555403],\n       [0.13706879, 0.86293121],\n       [0.40730754, 0.59269246],\n       [0.40321782, 0.59678218],\n       [0.38069532, 0.61930468],\n       [0.21901243, 0.78098757],\n       [0.22686695, 0.77313305],\n       [0.28301203, 0.71698797],\n       [0.31497934, 0.68502066],\n       [0.11181485, 0.88818515],\n       [0.45092988, 0.54907012],\n       [0.21316794, 0.78683206],\n       [0.31879206, 0.68120794],\n       [0.264978  , 0.735022  ],\n       [0.19543913, 0.80456087],\n       [0.4858847 , 0.5141153 ],\n       [0.36365257, 0.63634743],\n       [0.37887602, 0.62112398],\n       [0.36254191, 0.63745809],\n       [0.11905543, 0.88094457],\n       [0.3129945 , 0.6870055 ],\n       [0.23050583, 0.76949417],\n       [0.22007358, 0.77992642],\n       [0.31308513, 0.68691487],\n       [0.22490752, 0.77509248],\n       [0.34908336, 0.65091664],\n       [0.25495253, 0.74504747],\n       [0.190704  , 0.809296  ],\n       [0.13851933, 0.86148067],\n       [0.31472071, 0.68527929],\n       [0.41095132, 0.58904868],\n       [0.18615817, 0.81384183],\n       [0.20355624, 0.79644376],\n       [0.11699279, 0.88300721],\n       [0.18734703, 0.81265297],\n       [0.31094321, 0.68905679],\n       [0.16493914, 0.83506086],\n       [0.12128563, 0.87871437],\n       [0.14130065, 0.85869935],\n       [0.23106847, 0.76893153],\n       [0.2101063 , 0.7898937 ],\n       [0.13934979, 0.86065021],\n       [0.34006883, 0.65993117],\n       [0.1237524 , 0.8762476 ],\n       [0.19399313, 0.80600687],\n       [0.27658045, 0.72341955],\n       [0.31884973, 0.68115027],\n       [0.15769148, 0.84230852],\n       [0.31178084, 0.68821916],\n       [0.36144029, 0.63855971],\n       [0.11075589, 0.88924411],\n       [0.31920716, 0.68079284],\n       [0.11522825, 0.88477175],\n       [0.21850272, 0.78149728],\n       [0.3435109 , 0.6564891 ],\n       [0.11780895, 0.88219105],\n       [0.30315598, 0.69684402],\n       [0.34167349, 0.65832651],\n       [0.46893978, 0.53106022],\n       [0.11207514, 0.88792486],\n       [0.35856482, 0.64143518],\n       [0.44264433, 0.55735567],\n       [0.24329942, 0.75670058],\n       [0.36140877, 0.63859123],\n       [0.21824115, 0.78175885],\n       [0.5185421 , 0.4814579 ],\n       [0.27256342, 0.72743658],\n       [0.24632161, 0.75367839],\n       [0.17726131, 0.82273869],\n       [0.2664007 , 0.7335993 ],\n       [0.36138421, 0.63861579],\n       [0.39662585, 0.60337415],\n       [0.10482195, 0.89517805],\n       [0.21682363, 0.78317637],\n       [0.360126  , 0.639874  ],\n       [0.14003922, 0.85996078],\n       [0.32512811, 0.67487189],\n       [0.20329628, 0.79670372],\n       [0.26751994, 0.73248006],\n       [0.12731489, 0.87268511],\n       [0.26621223, 0.73378777],\n       [0.12793658, 0.87206342],\n       [0.25857618, 0.74142382],\n       [0.41712982, 0.58287018],\n       [0.21521835, 0.78478165],\n       [0.22325936, 0.77674064],\n       [0.47732551, 0.52267449],\n       [0.19704604, 0.80295396],\n       [0.36537611, 0.63462389]])"
     },
     "execution_count": 117,
     "metadata": {},
     "output_type": "execute_result"
    }
   ],
   "source": [
    "P.predict_proba(X_test)"
   ]
  },
  {
   "cell_type": "markdown",
   "id": "02df431d",
   "metadata": {},
   "source": [
    "## Comparaison de plusieurs algorithmes d’apprentissage ##"
   ]
  },
  {
   "cell_type": "code",
   "execution_count": 121,
   "id": "5f66b238",
   "metadata": {},
   "outputs": [
    {
     "name": "stdout",
     "output_type": "stream",
     "text": [
      "Accuracy for NB is: 0.773 +/- 0.018\n",
      "Precision for NB is: 0.830 +/- 0.025\n",
      "Temps de fitting de données par l'algorithme d'apprentissage NB en moyenne: 0.003 +/- 0.002 secondes\n",
      "Accuracy for CART is: 0.721 +/- 0.016\n",
      "Precision for CART is: 0.809 +/- 0.017\n",
      "Temps de fitting de données par l'algorithme d'apprentissage CART en moyenne: 0.029 +/- 0.006 secondes\n",
      "Accuracy for ID3 is: 0.714 +/- 0.015\n",
      "Precision for ID3 is: 0.800 +/- 0.018\n",
      "Temps de fitting de données par l'algorithme d'apprentissage ID3 en moyenne: 0.041 +/- 0.017 secondes\n",
      "Accuracy for Stump is: 0.725 +/- 0.019\n",
      "Precision for Stump is: 0.743 +/- 0.034\n",
      "Temps de fitting de données par l'algorithme d'apprentissage Stump en moyenne: 0.005 +/- 0.002 secondes\n",
      "Accuracy for MLP is: 0.699 +/- 0.070\n",
      "Precision for MLP is: 0.830 +/- 0.043\n",
      "Temps de fitting de données par l'algorithme d'apprentissage MLP en moyenne: 1.059 +/- 0.323 secondes\n",
      "Accuracy for KNN is: 0.731 +/- 0.016\n",
      "Precision for KNN is: 0.761 +/- 0.018\n",
      "Temps de fitting de données par l'algorithme d'apprentissage KNN en moyenne: 0.007 +/- 0.002 secondes\n",
      "Accuracy for BC is: 0.783 +/- 0.022\n",
      "Precision for BC is: 0.827 +/- 0.023\n",
      "Temps de fitting de données par l'algorithme d'apprentissage BC en moyenne: 1.994 +/- 0.262 secondes\n",
      "Accuracy for ADA is: 0.789 +/- 0.018\n",
      "Precision for ADA is: 0.822 +/- 0.020\n",
      "Temps de fitting de données par l'algorithme d'apprentissage ADA en moyenne: 0.599 +/- 0.122 secondes\n",
      "Accuracy for RF is: 0.785 +/- 0.014\n",
      "Precision for RF is: 0.819 +/- 0.021\n",
      "Temps de fitting de données par l'algorithme d'apprentissage RF en moyenne: 0.816 +/- 0.189 secondes\n",
      "Accuracy for GB is: 0.794 +/- 0.018\n",
      "Precision for GB is: 0.822 +/- 0.021\n",
      "Temps de fitting de données par l'algorithme d'apprentissage GB en moyenne: 0.771 +/- 0.174 secondes\n"
     ]
    }
   ],
   "source": [
    "from sklearn.naive_bayes import GaussianNB\n",
    "from sklearn.tree import DecisionTreeClassifier\n",
    "from sklearn.neural_network import MLPClassifier\n",
    "from sklearn.neighbors import KNeighborsClassifier\n",
    "from sklearn.ensemble import BaggingClassifier, AdaBoostClassifier, RandomForestClassifier,GradientBoostingClassifier\n",
    "from sklearn.metrics import confusion_matrix, accuracy_score, precision_score, roc_auc_score\n",
    "from sklearn.model_selection import KFold, cross_validate\n",
    "\n",
    "\n",
    "\n",
    "def run_classifiers(clfs, X, Y):\n",
    "    kf = KFold(n_splits=10, shuffle=True, random_state=1)\n",
    "    for i in clfs:\n",
    "        clf = clfs[i]\n",
    "        cv_scores = cross_validate(clf, X, Y, scoring=('accuracy', 'precision'), cv=kf)\n",
    "        print(\"Accuracy for {0} is: {1:.3f} +/- {2:.3f}\".format(i, np.mean(cv_scores['test_accuracy']), np.std(cv_scores['test_accuracy'])))\n",
    "        print(\"Precision for {0} is: {1:.3f} +/- {2:.3f}\".format(i, np.mean(cv_scores['test_precision']), np.std(cv_scores['test_precision'])))\n",
    "        print(\"Temps de fitting de données par l'algorithme d'apprentissage {0} en moyenne: {1:.3f} +/- {2:.3f} secondes\"\n",
    "              .format(i, np.mean(cv_scores['fit_time']), np.std(cv_scores['fit_time'])))\n",
    "\n",
    "\n",
    "clfs = {\n",
    "    'NB': GaussianNB(),\n",
    "    'CART': DecisionTreeClassifier(criterion='gini',random_state=1),\n",
    "    'ID3': DecisionTreeClassifier(criterion='entropy', random_state=1),\n",
    "    'Stump': DecisionTreeClassifier(criterion='gini', random_state=1, max_depth=1),\n",
    "    'MLP': MLPClassifier(random_state=1, hidden_layer_sizes = (20,10)),\n",
    "    'KNN': KNeighborsClassifier(n_neighbors=13),\n",
    "    \"BC\": BaggingClassifier(n_estimators=100, random_state=1),\n",
    "    'ADA': AdaBoostClassifier(n_estimators=100, random_state=1),\n",
    "    'RF': RandomForestClassifier(n_estimators=100, random_state=1),\n",
    "    'GB': GradientBoostingClassifier(n_estimators=100, random_state=1)\n",
    "}\n",
    "\n",
    "run_classifiers(clfs, X, Y)"
   ]
  },
  {
   "cell_type": "markdown",
   "source": [
    "### Comparaison des algorithmes: ###\n",
    "Ici les algorithmes de bagging, adaboost, random_forest et gradientboost ont été testé avec 50 estimateurs puis 100 estimateurs. Les résultats n'ont pas changé en terme d'accuracy et precision, augmenté en terme de temps de fitting.\n",
    "* L'algorithme qui a la meilleur accuracy par cette cross-validation est le gradient boosting algorithme, suivi par adaboost, bagging classifier random forest  de (79% à 78%) et le naive bayes à 77%.\n",
    "* L'algorithme qui a la meilleur precision par cross-validation est le multilayer perceptron, alors qu'il a une accuracy très basse,  et le naive bayes qui a un écart type plus bas..!.\n",
    "* Le plus rapide pour fitter les données est le k-NN, ainsi que le naive bayes (MLP est 1000 plus lent) <br/>\n",
    "Alors le meilleur algo est le naive bayes ici! avant d'implémenter de fancy algorithmes, trouver une baseline à battre avec un naive bayes par exemple peut être une bonne pratique et éviter perte de temps!\n",
    "\n",
    "\n",
    "# FIN DE LA PARTIE 1 #"
   ],
   "metadata": {
    "collapsed": false,
    "pycharm": {
     "name": "#%% md\n"
    }
   }
  },
  {
   "cell_type": "markdown",
   "id": "196cd5c0",
   "metadata": {
    "pycharm": {
     "name": "#%% md\n"
    }
   },
   "source": [
    "# Partie 3 #"
   ]
  },
  {
   "cell_type": "code",
   "execution_count": 53,
   "id": "c32a0371",
   "metadata": {},
   "outputs": [],
   "source": [
    "import pandas as pd\n",
    "from sklearn.feature_extraction.text import CountVectorizer, TfidfTransformer\n",
    "from sklearn.model_selection import train_test_split"
   ]
  },
  {
   "cell_type": "code",
   "execution_count": 38,
   "outputs": [
    {
     "data": {
      "text/plain": "      0                                                  1\n0   ham  Go until jurong point, crazy.. Available only ...\n1   ham                      Ok lar... Joking wif u oni...\n2  spam  Free entry in 2 a wkly comp to win FA Cup fina...\n3   ham  U dun say so early hor... U c already then say...\n4   ham  Nah I don't think he goes to usf, he lives aro...",
      "text/html": "<div>\n<style scoped>\n    .dataframe tbody tr th:only-of-type {\n        vertical-align: middle;\n    }\n\n    .dataframe tbody tr th {\n        vertical-align: top;\n    }\n\n    .dataframe thead th {\n        text-align: right;\n    }\n</style>\n<table border=\"1\" class=\"dataframe\">\n  <thead>\n    <tr style=\"text-align: right;\">\n      <th></th>\n      <th>0</th>\n      <th>1</th>\n    </tr>\n  </thead>\n  <tbody>\n    <tr>\n      <th>0</th>\n      <td>ham</td>\n      <td>Go until jurong point, crazy.. Available only ...</td>\n    </tr>\n    <tr>\n      <th>1</th>\n      <td>ham</td>\n      <td>Ok lar... Joking wif u oni...</td>\n    </tr>\n    <tr>\n      <th>2</th>\n      <td>spam</td>\n      <td>Free entry in 2 a wkly comp to win FA Cup fina...</td>\n    </tr>\n    <tr>\n      <th>3</th>\n      <td>ham</td>\n      <td>U dun say so early hor... U c already then say...</td>\n    </tr>\n    <tr>\n      <th>4</th>\n      <td>ham</td>\n      <td>Nah I don't think he goes to usf, he lives aro...</td>\n    </tr>\n  </tbody>\n</table>\n</div>"
     },
     "execution_count": 38,
     "metadata": {},
     "output_type": "execute_result"
    }
   ],
   "source": [
    "df_text = pd.read_table(\"SMSSpamCollection\", header=None)\n",
    "df_text.head()"
   ],
   "metadata": {
    "collapsed": false,
    "pycharm": {
     "name": "#%%\n"
    }
   }
  },
  {
   "cell_type": "code",
   "execution_count": 57,
   "outputs": [],
   "source": [
    "vectorizer = CountVectorizer(max_features=300, stop_words='english')\n",
    "X = vectorizer.fit_transform(df_text[1])\n",
    "Y = df_text[0].values\n",
    "Y[Y==\"ham\"] = 0\n",
    "Y[Y==\"spam\"] = 1\n",
    "Y = Y.astype(int)\n",
    "#nbspam etc"
   ],
   "metadata": {
    "collapsed": false,
    "pycharm": {
     "name": "#%%\n"
    }
   }
  },
  {
   "cell_type": "code",
   "execution_count": 58,
   "outputs": [],
   "source": [
    "X_train,  X_test, Y_train, Y_test = train_test_split(X, Y, test_size = 0.3)"
   ],
   "metadata": {
    "collapsed": false,
    "pycharm": {
     "name": "#%%\n"
    }
   }
  },
  {
   "cell_type": "code",
   "execution_count": 55,
   "outputs": [
    {
     "data": {
      "text/plain": "{'great': 102,\n 'world': 291,\n 'got': 101,\n 'wat': 275,\n 'ok': 185,\n 'lar': 133,\n 'free': 90,\n 'win': 283,\n 'text': 240,\n 'receive': 208,\n 'txt': 263,\n 'rate': 203,\n 'apply': 18,\n 'dun': 77,\n 'say': 216,\n 'early': 79,\n 'don': 74,\n 'think': 248,\n 'hey': 116,\n 'week': 279,\n 'word': 288,\n 'like': 143,\n 'fun': 94,\n 'xxx': 293,\n 'send': 218,\n '50': 10,\n 'speak': 231,\n 'friends': 92,\n 'network': 176,\n 'customer': 59,\n 'selected': 217,\n 'prize': 199,\n 'claim': 47,\n 'code': 49,\n 'mobile': 170,\n 'latest': 136,\n 'camera': 40,\n 'gonna': 99,\n 'home': 119,\n 'soon': 229,\n 'want': 274,\n 'talk': 238,\n 'stuff': 235,\n 'tonight': 257,\n 've': 268,\n 'today': 253,\n 'cash': 43,\n '100': 2,\n '000': 0,\n 'cost': 57,\n '150p': 4,\n 'day': 63,\n '16': 6,\n 'reply': 210,\n 'urgent': 266,\n 'won': 286,\n 'www': 292,\n 'right': 211,\n 'thank': 242,\n 'wont': 287,\n 'help': 115,\n 'use': 267,\n 'message': 163,\n 'com': 51,\n 'oh': 184,\n 'watching': 277,\n 'remember': 209,\n 'yes': 297,\n 'did': 67,\n 'make': 158,\n 'fine': 87,\n 'way': 278,\n 'feel': 86,\n 'dont': 75,\n 'miss': 168,\n 'ur': 265,\n 'try': 260,\n 'going': 98,\n 'pay': 188,\n 'da': 60,\n 'finish': 88,\n 'lunch': 156,\n 'lor': 152,\n 'meet': 161,\n 'just': 129,\n 'eat': 81,\n 'really': 207,\n 'getting': 95,\n 'lol': 148,\n 'bus': 35,\n 'left': 138,\n 'dinner': 70,\n 'love': 154,\n 'amp': 17,\n 'car': 41,\n 'll': 147,\n 'let': 140,\n 'know': 131,\n 'room': 213,\n 'work': 289,\n 'does': 72,\n 'wait': 270,\n 'sure': 236,\n 'live': 146,\n 'yeah': 295,\n 'doing': 73,\n 'tell': 239,\n 'thanks': 243,\n 'ringtone': 212,\n 'uk': 264,\n 'month': 172,\n 'yup': 299,\n 'look': 150,\n 'msg': 174,\n '2nd': 9,\n 'hello': 114,\n 'trying': 261,\n 'pls': 196,\n 'weekend': 280,\n 'need': 175,\n 'sweet': 237,\n 'sms': 228,\n 'nokia': 180,\n 'tomorrow': 255,\n 'hope': 120,\n 'man': 159,\n 'lt': 155,\n 'gt': 103,\n 'calls': 38,\n 'didn': 68,\n 'maybe': 160,\n 'ask': 19,\n 'bit': 31,\n 'time': 251,\n 'class': 48,\n 'half': 109,\n 'morning': 173,\n 'place': 193,\n 'thought': 250,\n 'best': 27,\n 'happy': 110,\n 'sorry': 230,\n 'new': 177,\n 'play': 195,\n 'end': 82,\n 'year': 296,\n 'special': 232,\n 'later': 135,\n 'meeting': 162,\n 'pick': 192,\n 'good': 100,\n 'come': 52,\n 'check': 46,\n 'said': 214,\n 'nice': 178,\n 'awarded': 22,\n '1000': 3,\n 'dis': 71,\n '18': 7,\n '10': 1,\n 'hear': 112,\n 'money': 171,\n 'hi': 117,\n 'babe': 23,\n 'im': 124,\n 'wanna': 273,\n 'waiting': 271,\n 'thats': 245,\n 'cool': 55,\n 'pa': 187,\n 'looking': 151,\n 'job': 126,\n 'ah': 15,\n 'stop': 234,\n 'real': 206,\n 'yo': 298,\n 'came': 39,\n 'bed': 26,\n 'night': 179,\n 'late': 134,\n 'afternoon': 14,\n 'smile': 227,\n 'service': 220,\n 'guaranteed': 104,\n 'buy': 36,\n 'po': 197,\n 'box': 32,\n 'wk': 285,\n 'forgot': 89,\n 'long': 149,\n 'guess': 106,\n 'life': 142,\n 'lot': 153,\n 'dear': 65,\n 'birthday': 30,\n 'aight': 16,\n 'people': 189,\n 'better': 28,\n 'cos': 56,\n 'things': 247,\n 'contact': 54,\n 'draw': 76,\n 'shows': 224,\n '150ppm': 5,\n 'haha': 108,\n 'went': 281,\n 'holiday': 118,\n 'min': 164,\n 'account': 12,\n 'landline': 132,\n 'award': 21,\n 'sent': 219,\n 'girl': 96,\n 'join': 127,\n 'bt': 34,\n 'chat': 45,\n 'sir': 225,\n 'little': 145,\n 'gud': 105,\n 'ya': 294,\n 'luv': 157,\n 'thk': 249,\n 'tv': 262,\n 'house': 122,\n 'boy': 33,\n 'missing': 169,\n 'friend': 91,\n 'liao': 141,\n 'coming': 53,\n 'ill': 123,\n 'offer': 182,\n 'guys': 107,\n 'working': 290,\n 'jus': 128,\n 'tmr': 252,\n 'evening': 84,\n 'dat': 62,\n 'big': 29,\n 'ready': 205,\n 'leh': 139,\n 'easy': 80,\n 'called': 37,\n 'important': 125,\n '500': 11,\n 'collect': 50,\n 'start': 233,\n 'reach': 204,\n 'person': 190,\n 'told': 254,\n 'face': 85,\n 'watch': 276,\n 'thanx': 244,\n 'asked': 20,\n 'didnt': 69,\n 'sleep': 226,\n 'true': 259,\n 'care': 42,\n 'video': 269,\n 'mins': 166,\n 'shopping': 223,\n 'plan': 194,\n 'baby': 24,\n 'hour': 121,\n 'shall': 221,\n 'phone': 191,\n 'shit': 222,\n 'cs': 58,\n 'dunno': 78,\n 'problem': 201,\n 'line': 144,\n 'number': 181,\n 'chance': 44,\n 'texts': 241,\n 'minutes': 167,\n 'orange': 186,\n 'wish': 284,\n 'quite': 202,\n 'leave': 137,\n 'having': 111,\n 'sat': 215,\n 'office': 183,\n 'days': 64,\n 'actually': 13,\n 'god': 97,\n 'tone': 256,\n '1st': 8,\n 'thing': 246,\n 'den': 66,\n 'heart': 113,\n 'mind': 165,\n 'bad': 25,\n 'princess': 198,\n 'enjoy': 83,\n 'kiss': 130,\n 'probably': 200,\n 'fuck': 93,\n 'wife': 282,\n 'dad': 61,\n 'town': 258,\n 'wan': 272}"
     },
     "execution_count": 55,
     "metadata": {},
     "output_type": "execute_result"
    }
   ],
   "source": [
    "vectorizer.vocabulary_"
   ],
   "metadata": {
    "collapsed": false,
    "pycharm": {
     "name": "#%%\n"
    }
   }
  },
  {
   "cell_type": "code",
   "execution_count": 52,
   "outputs": [
    {
     "name": "stdout",
     "output_type": "stream",
     "text": [
      "### Naive Bayes Classifier: Résultats ###\n",
      "[[1450    2]\n",
      " [  32  188]]\n",
      "Accuracy: 0.980\n",
      "Precision: 0.989 \n",
      "\n",
      "### Arbre de decision: Résultats ###\n",
      "[[1429   23]\n",
      " [  33  187]]\n",
      "Accuracy: 0.967\n",
      "Precision: 0.890 \n",
      "\n",
      "### ID3: Résultats ###\n",
      "[[1435   17]\n",
      " [  35  185]]\n",
      "Accuracy: 0.969\n",
      "Precision: 0.916 \n",
      "\n",
      "### Decision stump: Résultats ###\n",
      "[[1385   67]\n",
      " [ 127   93]]\n",
      "Accuracy: 0.884\n",
      "Precision: 0.581 \n",
      "\n",
      "### MLP: Résultats ###\n",
      "[[1451    1]\n",
      " [  33  187]]\n",
      "Accuracy: 0.980\n",
      "Precision: 0.995 \n",
      "\n",
      "### KNN: Résultats ###\n",
      "[[1452    0]\n",
      " [ 137   83]]\n",
      "Accuracy: 0.918\n",
      "Precision: 1.000 \n",
      "\n",
      "### BAGGING: Résultats ###\n",
      "[[1452    0]\n",
      " [  50  170]]\n",
      "Accuracy: 0.970\n",
      "Precision: 1.000 \n",
      "\n",
      "### ADABOOST: Résultats ###\n",
      "[[1442   10]\n",
      " [  36  184]]\n",
      "Accuracy: 0.972\n",
      "Precision: 0.948 \n",
      "\n",
      "### RandomForestClassifier: Résultats ###\n",
      "[[1442   10]\n",
      " [  36  184]]\n",
      "Accuracy: 0.972\n",
      "Precision: 0.948 \n",
      "\n"
     ]
    }
   ],
   "source": [
    "classifieurs(X_train, Y_train, X_test, Y_test)"
   ],
   "metadata": {
    "collapsed": false,
    "pycharm": {
     "name": "#%%\n"
    }
   }
  },
  {
   "cell_type": "code",
   "execution_count": 64,
   "outputs": [],
   "source": [
    "TFIDF = TfidfTransformer()\n",
    "TFIDF.fit(X)\n",
    "X_TFIDF = TFIDF.transform(X)\n",
    "X_train,  X_test, Y_train, Y_test = train_test_split(X_TFIDF, Y, test_size = 0.3)"
   ],
   "metadata": {
    "collapsed": false,
    "pycharm": {
     "name": "#%%\n"
    }
   }
  },
  {
   "cell_type": "code",
   "execution_count": 65,
   "outputs": [
    {
     "name": "stdout",
     "output_type": "stream",
     "text": [
      "### Naive Bayes Classifier: Résultats ###\n",
      "[[1421    9]\n",
      " [  34  208]]\n",
      "Accuracy: 0.974\n",
      "Precision: 0.959 \n",
      "\n",
      "### Arbre de decision: Résultats ###\n",
      "[[1409   21]\n",
      " [  39  203]]\n",
      "Accuracy: 0.964\n",
      "Precision: 0.906 \n",
      "\n",
      "### ID3: Résultats ###\n",
      "[[1410   20]\n",
      " [  48  194]]\n",
      "Accuracy: 0.959\n",
      "Precision: 0.907 \n",
      "\n",
      "### Decision stump: Résultats ###\n",
      "[[1428    2]\n",
      " [ 200   42]]\n",
      "Accuracy: 0.879\n",
      "Precision: 0.955 \n",
      "\n",
      "### MLP: Résultats ###\n",
      "[[1415   15]\n",
      " [  33  209]]\n",
      "Accuracy: 0.971\n",
      "Precision: 0.933 \n",
      "\n",
      "### KNN: Résultats ###\n",
      "[[1421    9]\n",
      " [ 108  134]]\n",
      "Accuracy: 0.930\n",
      "Precision: 0.937 \n",
      "\n",
      "### BAGGING: Résultats ###\n",
      "[[1422    8]\n",
      " [  39  203]]\n",
      "Accuracy: 0.972\n",
      "Precision: 0.962 \n",
      "\n",
      "### ADABOOST: Résultats ###\n",
      "[[1421    9]\n",
      " [  50  192]]\n",
      "Accuracy: 0.965\n",
      "Precision: 0.955 \n",
      "\n",
      "### RandomForestClassifier: Résultats ###\n",
      "[[1421    9]\n",
      " [  50  192]]\n",
      "Accuracy: 0.965\n",
      "Precision: 0.955 \n",
      "\n"
     ]
    }
   ],
   "source": [
    "classifieurs(X_train, Y_train,  X_test, Y_test)"
   ],
   "metadata": {
    "collapsed": false,
    "pycharm": {
     "name": "#%%\n"
    }
   }
  },
  {
   "cell_type": "code",
   "execution_count": 67,
   "outputs": [
    {
     "name": "stdout",
     "output_type": "stream",
     "text": [
      "### Naive Bayes Classifier: Résultats ###\n",
      "[[1387   58]\n",
      " [  56  171]]\n",
      "Accuracy: 0.932\n",
      "Precision: 0.747 \n",
      "\n",
      "### Arbre de decision: Résultats ###\n",
      "[[1400   45]\n",
      " [  53  174]]\n",
      "Accuracy: 0.941\n",
      "Precision: 0.795 \n",
      "\n",
      "### ID3: Résultats ###\n",
      "[[1409   36]\n",
      " [  47  180]]\n",
      "Accuracy: 0.950\n",
      "Precision: 0.833 \n",
      "\n",
      "### Decision stump: Résultats ###\n",
      "[[1445    0]\n",
      " [ 227    0]]\n",
      "Accuracy: 0.864\n",
      "Precision: 0.000 \n",
      "\n",
      "### MLP: Résultats ###\n",
      "[[1426   19]\n",
      " [  29  198]]\n",
      "Accuracy: 0.971\n",
      "Precision: 0.912 \n",
      "\n",
      "### KNN: Résultats ###\n",
      "[[1426   19]\n",
      " [  51  176]]\n",
      "Accuracy: 0.958\n",
      "Precision: 0.903 \n",
      "\n",
      "### BAGGING: Résultats ###\n",
      "[[1429   16]\n",
      " [  36  191]]\n",
      "Accuracy: 0.969\n",
      "Precision: 0.923 \n",
      "\n",
      "### ADABOOST: Résultats ###\n",
      "[[1427   18]\n",
      " [  42  185]]\n",
      "Accuracy: 0.964\n",
      "Precision: 0.911 \n",
      "\n",
      "### RandomForestClassifier: Résultats ###\n",
      "[[1427   18]\n",
      " [  42  185]]\n",
      "Accuracy: 0.964\n",
      "Precision: 0.911 \n",
      "\n"
     ]
    }
   ],
   "source": [
    "from sklearn.decomposition import TruncatedSVD\n",
    "SVD = TruncatedSVD(n_components=50)\n",
    "SVD.fit(X_TFIDF)\n",
    "X_SVD = SVD.transform(X_TFIDF)\n",
    "X_train,  X_test, Y_train, Y_test = train_test_split(X_SVD, Y, test_size = 0.3)\n",
    "classifieurs(X_train, Y_train,  X_test, Y_test)"
   ],
   "metadata": {
    "collapsed": false,
    "pycharm": {
     "name": "#%%\n"
    }
   }
  },
  {
   "cell_type": "code",
   "execution_count": null,
   "outputs": [],
   "source": [],
   "metadata": {
    "collapsed": false,
    "pycharm": {
     "name": "#%%\n"
    }
   }
  }
 ],
 "metadata": {
  "kernelspec": {
   "display_name": "Python [conda env:mlapproach] *",
   "language": "python",
   "name": "conda-env-mlapproach-py"
  },
  "language_info": {
   "codemirror_mode": {
    "name": "ipython",
    "version": 3
   },
   "file_extension": ".py",
   "mimetype": "text/x-python",
   "name": "python",
   "nbconvert_exporter": "python",
   "pygments_lexer": "ipython3",
   "version": "3.8.10"
  }
 },
 "nbformat": 4,
 "nbformat_minor": 5
}